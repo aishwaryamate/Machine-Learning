{
 "cells": [
  {
   "cell_type": "code",
   "execution_count": 1,
   "id": "64f92b4d",
   "metadata": {
    "ExecuteTime": {
     "end_time": "2023-03-17T11:00:30.588401Z",
     "start_time": "2023-03-17T11:00:26.979871Z"
    }
   },
   "outputs": [],
   "source": [
    "#Import Libraries\n",
    "import pandas as pd\n",
    "import numpy as np\n",
    "import matplotlib.pyplot as plt\n",
    "from sklearn.preprocessing import StandardScaler\n",
    "from sklearn.model_selection import train_test_split\n",
    "from sklearn.impute import SimpleImputer\n",
    "from sklearn.preprocessing import OrdinalEncoder\n",
    "from sklearn.linear_model import LinearRegression, Lasso,Ridge,ElasticNet\n",
    "from sklearn.metrics import mean_squared_error"
   ]
  },
  {
   "cell_type": "code",
   "execution_count": 2,
   "id": "21c0e761",
   "metadata": {
    "ExecuteTime": {
     "end_time": "2023-03-17T11:00:36.588746Z",
     "start_time": "2023-03-17T11:00:36.446272Z"
    }
   },
   "outputs": [
    {
     "data": {
      "text/html": [
       "<div>\n",
       "<style scoped>\n",
       "    .dataframe tbody tr th:only-of-type {\n",
       "        vertical-align: middle;\n",
       "    }\n",
       "\n",
       "    .dataframe tbody tr th {\n",
       "        vertical-align: top;\n",
       "    }\n",
       "\n",
       "    .dataframe thead th {\n",
       "        text-align: right;\n",
       "    }\n",
       "</style>\n",
       "<table border=\"1\" class=\"dataframe\">\n",
       "  <thead>\n",
       "    <tr style=\"text-align: right;\">\n",
       "      <th></th>\n",
       "      <th>symboling</th>\n",
       "      <th>normalized-losses</th>\n",
       "      <th>make</th>\n",
       "      <th>fuel-type</th>\n",
       "      <th>body-style</th>\n",
       "      <th>drive-wheels</th>\n",
       "      <th>engine-location</th>\n",
       "      <th>width</th>\n",
       "      <th>height</th>\n",
       "      <th>engine-type</th>\n",
       "      <th>engine-size</th>\n",
       "      <th>horsepower</th>\n",
       "      <th>city-mpg</th>\n",
       "      <th>highway-mpg</th>\n",
       "      <th>price</th>\n",
       "    </tr>\n",
       "  </thead>\n",
       "  <tbody>\n",
       "    <tr>\n",
       "      <th>0</th>\n",
       "      <td>3</td>\n",
       "      <td>?</td>\n",
       "      <td>alfa-romero</td>\n",
       "      <td>gas</td>\n",
       "      <td>convertible</td>\n",
       "      <td>rwd</td>\n",
       "      <td>front</td>\n",
       "      <td>64.1</td>\n",
       "      <td>48.8</td>\n",
       "      <td>dohc</td>\n",
       "      <td>130</td>\n",
       "      <td>111</td>\n",
       "      <td>21</td>\n",
       "      <td>27</td>\n",
       "      <td>13495</td>\n",
       "    </tr>\n",
       "    <tr>\n",
       "      <th>1</th>\n",
       "      <td>3</td>\n",
       "      <td>?</td>\n",
       "      <td>alfa-romero</td>\n",
       "      <td>gas</td>\n",
       "      <td>convertible</td>\n",
       "      <td>rwd</td>\n",
       "      <td>front</td>\n",
       "      <td>64.1</td>\n",
       "      <td>48.8</td>\n",
       "      <td>dohc</td>\n",
       "      <td>130</td>\n",
       "      <td>111</td>\n",
       "      <td>21</td>\n",
       "      <td>27</td>\n",
       "      <td>16500</td>\n",
       "    </tr>\n",
       "    <tr>\n",
       "      <th>2</th>\n",
       "      <td>1</td>\n",
       "      <td>?</td>\n",
       "      <td>alfa-romero</td>\n",
       "      <td>gas</td>\n",
       "      <td>hatchback</td>\n",
       "      <td>rwd</td>\n",
       "      <td>front</td>\n",
       "      <td>65.5</td>\n",
       "      <td>52.4</td>\n",
       "      <td>ohcv</td>\n",
       "      <td>152</td>\n",
       "      <td>154</td>\n",
       "      <td>19</td>\n",
       "      <td>26</td>\n",
       "      <td>16500</td>\n",
       "    </tr>\n",
       "    <tr>\n",
       "      <th>3</th>\n",
       "      <td>2</td>\n",
       "      <td>164</td>\n",
       "      <td>audi</td>\n",
       "      <td>gas</td>\n",
       "      <td>sedan</td>\n",
       "      <td>fwd</td>\n",
       "      <td>front</td>\n",
       "      <td>66.2</td>\n",
       "      <td>54.3</td>\n",
       "      <td>ohc</td>\n",
       "      <td>109</td>\n",
       "      <td>102</td>\n",
       "      <td>24</td>\n",
       "      <td>30</td>\n",
       "      <td>13950</td>\n",
       "    </tr>\n",
       "    <tr>\n",
       "      <th>4</th>\n",
       "      <td>2</td>\n",
       "      <td>164</td>\n",
       "      <td>audi</td>\n",
       "      <td>gas</td>\n",
       "      <td>sedan</td>\n",
       "      <td>4wd</td>\n",
       "      <td>front</td>\n",
       "      <td>66.4</td>\n",
       "      <td>54.3</td>\n",
       "      <td>ohc</td>\n",
       "      <td>136</td>\n",
       "      <td>115</td>\n",
       "      <td>18</td>\n",
       "      <td>22</td>\n",
       "      <td>17450</td>\n",
       "    </tr>\n",
       "    <tr>\n",
       "      <th>...</th>\n",
       "      <td>...</td>\n",
       "      <td>...</td>\n",
       "      <td>...</td>\n",
       "      <td>...</td>\n",
       "      <td>...</td>\n",
       "      <td>...</td>\n",
       "      <td>...</td>\n",
       "      <td>...</td>\n",
       "      <td>...</td>\n",
       "      <td>...</td>\n",
       "      <td>...</td>\n",
       "      <td>...</td>\n",
       "      <td>...</td>\n",
       "      <td>...</td>\n",
       "      <td>...</td>\n",
       "    </tr>\n",
       "    <tr>\n",
       "      <th>200</th>\n",
       "      <td>-1</td>\n",
       "      <td>95</td>\n",
       "      <td>volvo</td>\n",
       "      <td>gas</td>\n",
       "      <td>sedan</td>\n",
       "      <td>rwd</td>\n",
       "      <td>front</td>\n",
       "      <td>68.9</td>\n",
       "      <td>55.5</td>\n",
       "      <td>ohc</td>\n",
       "      <td>141</td>\n",
       "      <td>114</td>\n",
       "      <td>23</td>\n",
       "      <td>28</td>\n",
       "      <td>16845</td>\n",
       "    </tr>\n",
       "    <tr>\n",
       "      <th>201</th>\n",
       "      <td>-1</td>\n",
       "      <td>95</td>\n",
       "      <td>volvo</td>\n",
       "      <td>gas</td>\n",
       "      <td>sedan</td>\n",
       "      <td>rwd</td>\n",
       "      <td>front</td>\n",
       "      <td>68.8</td>\n",
       "      <td>55.5</td>\n",
       "      <td>ohc</td>\n",
       "      <td>141</td>\n",
       "      <td>160</td>\n",
       "      <td>19</td>\n",
       "      <td>25</td>\n",
       "      <td>19045</td>\n",
       "    </tr>\n",
       "    <tr>\n",
       "      <th>202</th>\n",
       "      <td>-1</td>\n",
       "      <td>95</td>\n",
       "      <td>volvo</td>\n",
       "      <td>gas</td>\n",
       "      <td>sedan</td>\n",
       "      <td>rwd</td>\n",
       "      <td>front</td>\n",
       "      <td>68.9</td>\n",
       "      <td>55.5</td>\n",
       "      <td>ohcv</td>\n",
       "      <td>173</td>\n",
       "      <td>134</td>\n",
       "      <td>18</td>\n",
       "      <td>23</td>\n",
       "      <td>21485</td>\n",
       "    </tr>\n",
       "    <tr>\n",
       "      <th>203</th>\n",
       "      <td>-1</td>\n",
       "      <td>95</td>\n",
       "      <td>volvo</td>\n",
       "      <td>diesel</td>\n",
       "      <td>sedan</td>\n",
       "      <td>rwd</td>\n",
       "      <td>front</td>\n",
       "      <td>68.9</td>\n",
       "      <td>55.5</td>\n",
       "      <td>ohc</td>\n",
       "      <td>145</td>\n",
       "      <td>106</td>\n",
       "      <td>26</td>\n",
       "      <td>27</td>\n",
       "      <td>22470</td>\n",
       "    </tr>\n",
       "    <tr>\n",
       "      <th>204</th>\n",
       "      <td>-1</td>\n",
       "      <td>95</td>\n",
       "      <td>volvo</td>\n",
       "      <td>gas</td>\n",
       "      <td>sedan</td>\n",
       "      <td>rwd</td>\n",
       "      <td>front</td>\n",
       "      <td>68.9</td>\n",
       "      <td>55.5</td>\n",
       "      <td>ohc</td>\n",
       "      <td>141</td>\n",
       "      <td>114</td>\n",
       "      <td>19</td>\n",
       "      <td>25</td>\n",
       "      <td>22625</td>\n",
       "    </tr>\n",
       "  </tbody>\n",
       "</table>\n",
       "<p>205 rows × 15 columns</p>\n",
       "</div>"
      ],
      "text/plain": [
       "     symboling normalized-losses         make fuel-type   body-style  \\\n",
       "0            3                 ?  alfa-romero       gas  convertible   \n",
       "1            3                 ?  alfa-romero       gas  convertible   \n",
       "2            1                 ?  alfa-romero       gas    hatchback   \n",
       "3            2               164         audi       gas        sedan   \n",
       "4            2               164         audi       gas        sedan   \n",
       "..         ...               ...          ...       ...          ...   \n",
       "200         -1                95        volvo       gas        sedan   \n",
       "201         -1                95        volvo       gas        sedan   \n",
       "202         -1                95        volvo       gas        sedan   \n",
       "203         -1                95        volvo    diesel        sedan   \n",
       "204         -1                95        volvo       gas        sedan   \n",
       "\n",
       "    drive-wheels engine-location  width  height engine-type  engine-size  \\\n",
       "0            rwd           front   64.1    48.8        dohc          130   \n",
       "1            rwd           front   64.1    48.8        dohc          130   \n",
       "2            rwd           front   65.5    52.4        ohcv          152   \n",
       "3            fwd           front   66.2    54.3         ohc          109   \n",
       "4            4wd           front   66.4    54.3         ohc          136   \n",
       "..           ...             ...    ...     ...         ...          ...   \n",
       "200          rwd           front   68.9    55.5         ohc          141   \n",
       "201          rwd           front   68.8    55.5         ohc          141   \n",
       "202          rwd           front   68.9    55.5        ohcv          173   \n",
       "203          rwd           front   68.9    55.5         ohc          145   \n",
       "204          rwd           front   68.9    55.5         ohc          141   \n",
       "\n",
       "    horsepower  city-mpg  highway-mpg  price  \n",
       "0          111        21           27  13495  \n",
       "1          111        21           27  16500  \n",
       "2          154        19           26  16500  \n",
       "3          102        24           30  13950  \n",
       "4          115        18           22  17450  \n",
       "..         ...       ...          ...    ...  \n",
       "200        114        23           28  16845  \n",
       "201        160        19           25  19045  \n",
       "202        134        18           23  21485  \n",
       "203        106        26           27  22470  \n",
       "204        114        19           25  22625  \n",
       "\n",
       "[205 rows x 15 columns]"
      ]
     },
     "execution_count": 2,
     "metadata": {},
     "output_type": "execute_result"
    }
   ],
   "source": [
    "df = pd.read_csv(r\"C:\\Users\\Aishwarya\\Desktop\\Datasets\\cars.csv\")\n",
    "df"
   ]
  },
  {
   "cell_type": "code",
   "execution_count": 3,
   "id": "5610391c",
   "metadata": {
    "ExecuteTime": {
     "end_time": "2023-03-17T11:01:04.174232Z",
     "start_time": "2023-03-17T11:01:04.153668Z"
    }
   },
   "outputs": [
    {
     "data": {
      "text/plain": [
       "symboling            0\n",
       "normalized-losses    0\n",
       "make                 0\n",
       "fuel-type            0\n",
       "body-style           0\n",
       "drive-wheels         0\n",
       "engine-location      0\n",
       "width                0\n",
       "height               0\n",
       "engine-type          0\n",
       "engine-size          0\n",
       "horsepower           0\n",
       "city-mpg             0\n",
       "highway-mpg          0\n",
       "price                0\n",
       "dtype: int64"
      ]
     },
     "execution_count": 3,
     "metadata": {},
     "output_type": "execute_result"
    }
   ],
   "source": [
    "df.isna().sum()"
   ]
  },
  {
   "cell_type": "code",
   "execution_count": 4,
   "id": "32509df1",
   "metadata": {
    "ExecuteTime": {
     "end_time": "2023-03-17T11:02:03.137485Z",
     "start_time": "2023-03-17T11:02:03.081015Z"
    }
   },
   "outputs": [
    {
     "name": "stdout",
     "output_type": "stream",
     "text": [
      "<class 'pandas.core.frame.DataFrame'>\n",
      "RangeIndex: 205 entries, 0 to 204\n",
      "Data columns (total 15 columns):\n",
      " #   Column             Non-Null Count  Dtype  \n",
      "---  ------             --------------  -----  \n",
      " 0   symboling          205 non-null    int64  \n",
      " 1   normalized-losses  205 non-null    object \n",
      " 2   make               205 non-null    object \n",
      " 3   fuel-type          205 non-null    object \n",
      " 4   body-style         205 non-null    object \n",
      " 5   drive-wheels       205 non-null    object \n",
      " 6   engine-location    205 non-null    object \n",
      " 7   width              205 non-null    float64\n",
      " 8   height             205 non-null    float64\n",
      " 9   engine-type        205 non-null    object \n",
      " 10  engine-size        205 non-null    int64  \n",
      " 11  horsepower         205 non-null    object \n",
      " 12  city-mpg           205 non-null    int64  \n",
      " 13  highway-mpg        205 non-null    int64  \n",
      " 14  price              205 non-null    int64  \n",
      "dtypes: float64(2), int64(5), object(8)\n",
      "memory usage: 24.1+ KB\n"
     ]
    }
   ],
   "source": [
    "df.info()"
   ]
  },
  {
   "cell_type": "code",
   "execution_count": 5,
   "id": "67d4fd71",
   "metadata": {
    "ExecuteTime": {
     "end_time": "2023-03-17T11:03:27.321140Z",
     "start_time": "2023-03-17T11:03:27.304443Z"
    }
   },
   "outputs": [],
   "source": [
    "df.replace('?',np.nan,inplace=True)"
   ]
  },
  {
   "cell_type": "code",
   "execution_count": 7,
   "id": "da54d85f",
   "metadata": {
    "ExecuteTime": {
     "end_time": "2023-03-17T11:03:37.717804Z",
     "start_time": "2023-03-17T11:03:37.699637Z"
    }
   },
   "outputs": [
    {
     "data": {
      "text/plain": [
       "symboling             0\n",
       "normalized-losses    41\n",
       "make                  0\n",
       "fuel-type             0\n",
       "body-style            0\n",
       "drive-wheels          0\n",
       "engine-location       0\n",
       "width                 0\n",
       "height                0\n",
       "engine-type           0\n",
       "engine-size           0\n",
       "horsepower            2\n",
       "city-mpg              0\n",
       "highway-mpg           0\n",
       "price                 0\n",
       "dtype: int64"
      ]
     },
     "execution_count": 7,
     "metadata": {},
     "output_type": "execute_result"
    }
   ],
   "source": [
    "df.isna().sum()"
   ]
  },
  {
   "cell_type": "code",
   "execution_count": 8,
   "id": "862c2a97",
   "metadata": {
    "ExecuteTime": {
     "end_time": "2023-03-17T11:04:39.672315Z",
     "start_time": "2023-03-17T11:04:39.627154Z"
    }
   },
   "outputs": [],
   "source": [
    "si = SimpleImputer()\n",
    "df[['normalized-losses','horsepower']] = si.fit_transform(df[['normalized-losses','horsepower']])"
   ]
  },
  {
   "cell_type": "code",
   "execution_count": 9,
   "id": "7f706443",
   "metadata": {
    "ExecuteTime": {
     "end_time": "2023-03-17T11:04:43.698065Z",
     "start_time": "2023-03-17T11:04:43.664193Z"
    }
   },
   "outputs": [
    {
     "data": {
      "text/html": [
       "<div>\n",
       "<style scoped>\n",
       "    .dataframe tbody tr th:only-of-type {\n",
       "        vertical-align: middle;\n",
       "    }\n",
       "\n",
       "    .dataframe tbody tr th {\n",
       "        vertical-align: top;\n",
       "    }\n",
       "\n",
       "    .dataframe thead th {\n",
       "        text-align: right;\n",
       "    }\n",
       "</style>\n",
       "<table border=\"1\" class=\"dataframe\">\n",
       "  <thead>\n",
       "    <tr style=\"text-align: right;\">\n",
       "      <th></th>\n",
       "      <th>symboling</th>\n",
       "      <th>normalized-losses</th>\n",
       "      <th>make</th>\n",
       "      <th>fuel-type</th>\n",
       "      <th>body-style</th>\n",
       "      <th>drive-wheels</th>\n",
       "      <th>engine-location</th>\n",
       "      <th>width</th>\n",
       "      <th>height</th>\n",
       "      <th>engine-type</th>\n",
       "      <th>engine-size</th>\n",
       "      <th>horsepower</th>\n",
       "      <th>city-mpg</th>\n",
       "      <th>highway-mpg</th>\n",
       "      <th>price</th>\n",
       "    </tr>\n",
       "  </thead>\n",
       "  <tbody>\n",
       "    <tr>\n",
       "      <th>0</th>\n",
       "      <td>3</td>\n",
       "      <td>122.0</td>\n",
       "      <td>alfa-romero</td>\n",
       "      <td>gas</td>\n",
       "      <td>convertible</td>\n",
       "      <td>rwd</td>\n",
       "      <td>front</td>\n",
       "      <td>64.1</td>\n",
       "      <td>48.8</td>\n",
       "      <td>dohc</td>\n",
       "      <td>130</td>\n",
       "      <td>111.0</td>\n",
       "      <td>21</td>\n",
       "      <td>27</td>\n",
       "      <td>13495</td>\n",
       "    </tr>\n",
       "    <tr>\n",
       "      <th>1</th>\n",
       "      <td>3</td>\n",
       "      <td>122.0</td>\n",
       "      <td>alfa-romero</td>\n",
       "      <td>gas</td>\n",
       "      <td>convertible</td>\n",
       "      <td>rwd</td>\n",
       "      <td>front</td>\n",
       "      <td>64.1</td>\n",
       "      <td>48.8</td>\n",
       "      <td>dohc</td>\n",
       "      <td>130</td>\n",
       "      <td>111.0</td>\n",
       "      <td>21</td>\n",
       "      <td>27</td>\n",
       "      <td>16500</td>\n",
       "    </tr>\n",
       "    <tr>\n",
       "      <th>2</th>\n",
       "      <td>1</td>\n",
       "      <td>122.0</td>\n",
       "      <td>alfa-romero</td>\n",
       "      <td>gas</td>\n",
       "      <td>hatchback</td>\n",
       "      <td>rwd</td>\n",
       "      <td>front</td>\n",
       "      <td>65.5</td>\n",
       "      <td>52.4</td>\n",
       "      <td>ohcv</td>\n",
       "      <td>152</td>\n",
       "      <td>154.0</td>\n",
       "      <td>19</td>\n",
       "      <td>26</td>\n",
       "      <td>16500</td>\n",
       "    </tr>\n",
       "    <tr>\n",
       "      <th>3</th>\n",
       "      <td>2</td>\n",
       "      <td>164.0</td>\n",
       "      <td>audi</td>\n",
       "      <td>gas</td>\n",
       "      <td>sedan</td>\n",
       "      <td>fwd</td>\n",
       "      <td>front</td>\n",
       "      <td>66.2</td>\n",
       "      <td>54.3</td>\n",
       "      <td>ohc</td>\n",
       "      <td>109</td>\n",
       "      <td>102.0</td>\n",
       "      <td>24</td>\n",
       "      <td>30</td>\n",
       "      <td>13950</td>\n",
       "    </tr>\n",
       "    <tr>\n",
       "      <th>4</th>\n",
       "      <td>2</td>\n",
       "      <td>164.0</td>\n",
       "      <td>audi</td>\n",
       "      <td>gas</td>\n",
       "      <td>sedan</td>\n",
       "      <td>4wd</td>\n",
       "      <td>front</td>\n",
       "      <td>66.4</td>\n",
       "      <td>54.3</td>\n",
       "      <td>ohc</td>\n",
       "      <td>136</td>\n",
       "      <td>115.0</td>\n",
       "      <td>18</td>\n",
       "      <td>22</td>\n",
       "      <td>17450</td>\n",
       "    </tr>\n",
       "  </tbody>\n",
       "</table>\n",
       "</div>"
      ],
      "text/plain": [
       "   symboling  normalized-losses         make fuel-type   body-style  \\\n",
       "0          3              122.0  alfa-romero       gas  convertible   \n",
       "1          3              122.0  alfa-romero       gas  convertible   \n",
       "2          1              122.0  alfa-romero       gas    hatchback   \n",
       "3          2              164.0         audi       gas        sedan   \n",
       "4          2              164.0         audi       gas        sedan   \n",
       "\n",
       "  drive-wheels engine-location  width  height engine-type  engine-size  \\\n",
       "0          rwd           front   64.1    48.8        dohc          130   \n",
       "1          rwd           front   64.1    48.8        dohc          130   \n",
       "2          rwd           front   65.5    52.4        ohcv          152   \n",
       "3          fwd           front   66.2    54.3         ohc          109   \n",
       "4          4wd           front   66.4    54.3         ohc          136   \n",
       "\n",
       "   horsepower  city-mpg  highway-mpg  price  \n",
       "0       111.0        21           27  13495  \n",
       "1       111.0        21           27  16500  \n",
       "2       154.0        19           26  16500  \n",
       "3       102.0        24           30  13950  \n",
       "4       115.0        18           22  17450  "
      ]
     },
     "execution_count": 9,
     "metadata": {},
     "output_type": "execute_result"
    }
   ],
   "source": [
    "df.head()"
   ]
  },
  {
   "cell_type": "code",
   "execution_count": 10,
   "id": "785c7daa",
   "metadata": {
    "ExecuteTime": {
     "end_time": "2023-03-17T11:06:00.461355Z",
     "start_time": "2023-03-17T11:06:00.441879Z"
    }
   },
   "outputs": [
    {
     "data": {
      "text/plain": [
       "22"
      ]
     },
     "execution_count": 10,
     "metadata": {},
     "output_type": "execute_result"
    }
   ],
   "source": [
    "df['make'].nunique()"
   ]
  },
  {
   "cell_type": "markdown",
   "id": "d8f4b5c6",
   "metadata": {},
   "source": [
    "# Encoding"
   ]
  },
  {
   "cell_type": "code",
   "execution_count": 12,
   "id": "0b61dda3",
   "metadata": {
    "ExecuteTime": {
     "end_time": "2023-03-17T11:07:55.005616Z",
     "start_time": "2023-03-17T11:07:54.985060Z"
    }
   },
   "outputs": [
    {
     "data": {
      "text/plain": [
       "Index(['make', 'fuel-type', 'body-style', 'drive-wheels', 'engine-location',\n",
       "       'engine-type'],\n",
       "      dtype='object')"
      ]
     },
     "execution_count": 12,
     "metadata": {},
     "output_type": "execute_result"
    }
   ],
   "source": [
    "cat_cols = df.select_dtypes(object).columns\n",
    "cat_cols"
   ]
  },
  {
   "cell_type": "code",
   "execution_count": 13,
   "id": "ba1b6e12",
   "metadata": {
    "ExecuteTime": {
     "end_time": "2023-03-17T11:08:07.147608Z",
     "start_time": "2023-03-17T11:08:07.141606Z"
    }
   },
   "outputs": [],
   "source": [
    "oe = OrdinalEncoder()"
   ]
  },
  {
   "cell_type": "code",
   "execution_count": 14,
   "id": "949d4e93",
   "metadata": {
    "ExecuteTime": {
     "end_time": "2023-03-17T11:08:31.777396Z",
     "start_time": "2023-03-17T11:08:31.702889Z"
    }
   },
   "outputs": [
    {
     "data": {
      "text/html": [
       "<div>\n",
       "<style scoped>\n",
       "    .dataframe tbody tr th:only-of-type {\n",
       "        vertical-align: middle;\n",
       "    }\n",
       "\n",
       "    .dataframe tbody tr th {\n",
       "        vertical-align: top;\n",
       "    }\n",
       "\n",
       "    .dataframe thead th {\n",
       "        text-align: right;\n",
       "    }\n",
       "</style>\n",
       "<table border=\"1\" class=\"dataframe\">\n",
       "  <thead>\n",
       "    <tr style=\"text-align: right;\">\n",
       "      <th></th>\n",
       "      <th>symboling</th>\n",
       "      <th>normalized-losses</th>\n",
       "      <th>make</th>\n",
       "      <th>fuel-type</th>\n",
       "      <th>body-style</th>\n",
       "      <th>drive-wheels</th>\n",
       "      <th>engine-location</th>\n",
       "      <th>width</th>\n",
       "      <th>height</th>\n",
       "      <th>engine-type</th>\n",
       "      <th>engine-size</th>\n",
       "      <th>horsepower</th>\n",
       "      <th>city-mpg</th>\n",
       "      <th>highway-mpg</th>\n",
       "      <th>price</th>\n",
       "    </tr>\n",
       "  </thead>\n",
       "  <tbody>\n",
       "    <tr>\n",
       "      <th>0</th>\n",
       "      <td>3</td>\n",
       "      <td>122.0</td>\n",
       "      <td>0.0</td>\n",
       "      <td>1.0</td>\n",
       "      <td>0.0</td>\n",
       "      <td>2.0</td>\n",
       "      <td>0.0</td>\n",
       "      <td>64.1</td>\n",
       "      <td>48.8</td>\n",
       "      <td>0.0</td>\n",
       "      <td>130</td>\n",
       "      <td>111.0</td>\n",
       "      <td>21</td>\n",
       "      <td>27</td>\n",
       "      <td>13495</td>\n",
       "    </tr>\n",
       "    <tr>\n",
       "      <th>1</th>\n",
       "      <td>3</td>\n",
       "      <td>122.0</td>\n",
       "      <td>0.0</td>\n",
       "      <td>1.0</td>\n",
       "      <td>0.0</td>\n",
       "      <td>2.0</td>\n",
       "      <td>0.0</td>\n",
       "      <td>64.1</td>\n",
       "      <td>48.8</td>\n",
       "      <td>0.0</td>\n",
       "      <td>130</td>\n",
       "      <td>111.0</td>\n",
       "      <td>21</td>\n",
       "      <td>27</td>\n",
       "      <td>16500</td>\n",
       "    </tr>\n",
       "    <tr>\n",
       "      <th>2</th>\n",
       "      <td>1</td>\n",
       "      <td>122.0</td>\n",
       "      <td>0.0</td>\n",
       "      <td>1.0</td>\n",
       "      <td>2.0</td>\n",
       "      <td>2.0</td>\n",
       "      <td>0.0</td>\n",
       "      <td>65.5</td>\n",
       "      <td>52.4</td>\n",
       "      <td>5.0</td>\n",
       "      <td>152</td>\n",
       "      <td>154.0</td>\n",
       "      <td>19</td>\n",
       "      <td>26</td>\n",
       "      <td>16500</td>\n",
       "    </tr>\n",
       "    <tr>\n",
       "      <th>3</th>\n",
       "      <td>2</td>\n",
       "      <td>164.0</td>\n",
       "      <td>1.0</td>\n",
       "      <td>1.0</td>\n",
       "      <td>3.0</td>\n",
       "      <td>1.0</td>\n",
       "      <td>0.0</td>\n",
       "      <td>66.2</td>\n",
       "      <td>54.3</td>\n",
       "      <td>3.0</td>\n",
       "      <td>109</td>\n",
       "      <td>102.0</td>\n",
       "      <td>24</td>\n",
       "      <td>30</td>\n",
       "      <td>13950</td>\n",
       "    </tr>\n",
       "    <tr>\n",
       "      <th>4</th>\n",
       "      <td>2</td>\n",
       "      <td>164.0</td>\n",
       "      <td>1.0</td>\n",
       "      <td>1.0</td>\n",
       "      <td>3.0</td>\n",
       "      <td>0.0</td>\n",
       "      <td>0.0</td>\n",
       "      <td>66.4</td>\n",
       "      <td>54.3</td>\n",
       "      <td>3.0</td>\n",
       "      <td>136</td>\n",
       "      <td>115.0</td>\n",
       "      <td>18</td>\n",
       "      <td>22</td>\n",
       "      <td>17450</td>\n",
       "    </tr>\n",
       "    <tr>\n",
       "      <th>...</th>\n",
       "      <td>...</td>\n",
       "      <td>...</td>\n",
       "      <td>...</td>\n",
       "      <td>...</td>\n",
       "      <td>...</td>\n",
       "      <td>...</td>\n",
       "      <td>...</td>\n",
       "      <td>...</td>\n",
       "      <td>...</td>\n",
       "      <td>...</td>\n",
       "      <td>...</td>\n",
       "      <td>...</td>\n",
       "      <td>...</td>\n",
       "      <td>...</td>\n",
       "      <td>...</td>\n",
       "    </tr>\n",
       "    <tr>\n",
       "      <th>200</th>\n",
       "      <td>-1</td>\n",
       "      <td>95.0</td>\n",
       "      <td>21.0</td>\n",
       "      <td>1.0</td>\n",
       "      <td>3.0</td>\n",
       "      <td>2.0</td>\n",
       "      <td>0.0</td>\n",
       "      <td>68.9</td>\n",
       "      <td>55.5</td>\n",
       "      <td>3.0</td>\n",
       "      <td>141</td>\n",
       "      <td>114.0</td>\n",
       "      <td>23</td>\n",
       "      <td>28</td>\n",
       "      <td>16845</td>\n",
       "    </tr>\n",
       "    <tr>\n",
       "      <th>201</th>\n",
       "      <td>-1</td>\n",
       "      <td>95.0</td>\n",
       "      <td>21.0</td>\n",
       "      <td>1.0</td>\n",
       "      <td>3.0</td>\n",
       "      <td>2.0</td>\n",
       "      <td>0.0</td>\n",
       "      <td>68.8</td>\n",
       "      <td>55.5</td>\n",
       "      <td>3.0</td>\n",
       "      <td>141</td>\n",
       "      <td>160.0</td>\n",
       "      <td>19</td>\n",
       "      <td>25</td>\n",
       "      <td>19045</td>\n",
       "    </tr>\n",
       "    <tr>\n",
       "      <th>202</th>\n",
       "      <td>-1</td>\n",
       "      <td>95.0</td>\n",
       "      <td>21.0</td>\n",
       "      <td>1.0</td>\n",
       "      <td>3.0</td>\n",
       "      <td>2.0</td>\n",
       "      <td>0.0</td>\n",
       "      <td>68.9</td>\n",
       "      <td>55.5</td>\n",
       "      <td>5.0</td>\n",
       "      <td>173</td>\n",
       "      <td>134.0</td>\n",
       "      <td>18</td>\n",
       "      <td>23</td>\n",
       "      <td>21485</td>\n",
       "    </tr>\n",
       "    <tr>\n",
       "      <th>203</th>\n",
       "      <td>-1</td>\n",
       "      <td>95.0</td>\n",
       "      <td>21.0</td>\n",
       "      <td>0.0</td>\n",
       "      <td>3.0</td>\n",
       "      <td>2.0</td>\n",
       "      <td>0.0</td>\n",
       "      <td>68.9</td>\n",
       "      <td>55.5</td>\n",
       "      <td>3.0</td>\n",
       "      <td>145</td>\n",
       "      <td>106.0</td>\n",
       "      <td>26</td>\n",
       "      <td>27</td>\n",
       "      <td>22470</td>\n",
       "    </tr>\n",
       "    <tr>\n",
       "      <th>204</th>\n",
       "      <td>-1</td>\n",
       "      <td>95.0</td>\n",
       "      <td>21.0</td>\n",
       "      <td>1.0</td>\n",
       "      <td>3.0</td>\n",
       "      <td>2.0</td>\n",
       "      <td>0.0</td>\n",
       "      <td>68.9</td>\n",
       "      <td>55.5</td>\n",
       "      <td>3.0</td>\n",
       "      <td>141</td>\n",
       "      <td>114.0</td>\n",
       "      <td>19</td>\n",
       "      <td>25</td>\n",
       "      <td>22625</td>\n",
       "    </tr>\n",
       "  </tbody>\n",
       "</table>\n",
       "<p>205 rows × 15 columns</p>\n",
       "</div>"
      ],
      "text/plain": [
       "     symboling  normalized-losses  make  fuel-type  body-style  drive-wheels  \\\n",
       "0            3              122.0   0.0        1.0         0.0           2.0   \n",
       "1            3              122.0   0.0        1.0         0.0           2.0   \n",
       "2            1              122.0   0.0        1.0         2.0           2.0   \n",
       "3            2              164.0   1.0        1.0         3.0           1.0   \n",
       "4            2              164.0   1.0        1.0         3.0           0.0   \n",
       "..         ...                ...   ...        ...         ...           ...   \n",
       "200         -1               95.0  21.0        1.0         3.0           2.0   \n",
       "201         -1               95.0  21.0        1.0         3.0           2.0   \n",
       "202         -1               95.0  21.0        1.0         3.0           2.0   \n",
       "203         -1               95.0  21.0        0.0         3.0           2.0   \n",
       "204         -1               95.0  21.0        1.0         3.0           2.0   \n",
       "\n",
       "     engine-location  width  height  engine-type  engine-size  horsepower  \\\n",
       "0                0.0   64.1    48.8          0.0          130       111.0   \n",
       "1                0.0   64.1    48.8          0.0          130       111.0   \n",
       "2                0.0   65.5    52.4          5.0          152       154.0   \n",
       "3                0.0   66.2    54.3          3.0          109       102.0   \n",
       "4                0.0   66.4    54.3          3.0          136       115.0   \n",
       "..               ...    ...     ...          ...          ...         ...   \n",
       "200              0.0   68.9    55.5          3.0          141       114.0   \n",
       "201              0.0   68.8    55.5          3.0          141       160.0   \n",
       "202              0.0   68.9    55.5          5.0          173       134.0   \n",
       "203              0.0   68.9    55.5          3.0          145       106.0   \n",
       "204              0.0   68.9    55.5          3.0          141       114.0   \n",
       "\n",
       "     city-mpg  highway-mpg  price  \n",
       "0          21           27  13495  \n",
       "1          21           27  16500  \n",
       "2          19           26  16500  \n",
       "3          24           30  13950  \n",
       "4          18           22  17450  \n",
       "..        ...          ...    ...  \n",
       "200        23           28  16845  \n",
       "201        19           25  19045  \n",
       "202        18           23  21485  \n",
       "203        26           27  22470  \n",
       "204        19           25  22625  \n",
       "\n",
       "[205 rows x 15 columns]"
      ]
     },
     "execution_count": 14,
     "metadata": {},
     "output_type": "execute_result"
    }
   ],
   "source": [
    "df[cat_cols] = oe.fit_transform(df[cat_cols])\n",
    "df"
   ]
  },
  {
   "cell_type": "code",
   "execution_count": 15,
   "id": "c3d26824",
   "metadata": {
    "ExecuteTime": {
     "end_time": "2023-03-17T11:10:31.942702Z",
     "start_time": "2023-03-17T11:10:31.935794Z"
    }
   },
   "outputs": [],
   "source": [
    "sc = StandardScaler()"
   ]
  },
  {
   "cell_type": "code",
   "execution_count": 16,
   "id": "d3485216",
   "metadata": {
    "ExecuteTime": {
     "end_time": "2023-03-17T11:10:43.646159Z",
     "start_time": "2023-03-17T11:10:43.633776Z"
    }
   },
   "outputs": [],
   "source": [
    "x = df.iloc[:,:-1]\n",
    "y = df.iloc[:,-1]"
   ]
  },
  {
   "cell_type": "code",
   "execution_count": 33,
   "id": "5040b61f",
   "metadata": {
    "ExecuteTime": {
     "end_time": "2023-03-17T11:23:11.279496Z",
     "start_time": "2023-03-17T11:23:11.268745Z"
    }
   },
   "outputs": [
    {
     "data": {
      "text/plain": [
       "Index(['symboling', 'normalized-losses', 'make', 'fuel-type', 'body-style',\n",
       "       'drive-wheels', 'engine-location', 'width', 'height', 'engine-type',\n",
       "       'engine-size', 'horsepower', 'city-mpg', 'highway-mpg', 'price'],\n",
       "      dtype='object')"
      ]
     },
     "execution_count": 33,
     "metadata": {},
     "output_type": "execute_result"
    }
   ],
   "source": [
    "df.columns"
   ]
  },
  {
   "cell_type": "code",
   "execution_count": 34,
   "id": "bcf809f3",
   "metadata": {
    "ExecuteTime": {
     "end_time": "2023-03-17T11:23:22.863654Z",
     "start_time": "2023-03-17T11:23:22.803798Z"
    }
   },
   "outputs": [
    {
     "data": {
      "text/html": [
       "<div>\n",
       "<style scoped>\n",
       "    .dataframe tbody tr th:only-of-type {\n",
       "        vertical-align: middle;\n",
       "    }\n",
       "\n",
       "    .dataframe tbody tr th {\n",
       "        vertical-align: top;\n",
       "    }\n",
       "\n",
       "    .dataframe thead th {\n",
       "        text-align: right;\n",
       "    }\n",
       "</style>\n",
       "<table border=\"1\" class=\"dataframe\">\n",
       "  <thead>\n",
       "    <tr style=\"text-align: right;\">\n",
       "      <th></th>\n",
       "      <th>symboling</th>\n",
       "      <th>normalized-losses</th>\n",
       "      <th>make</th>\n",
       "      <th>fuel-type</th>\n",
       "      <th>body-style</th>\n",
       "      <th>drive-wheels</th>\n",
       "      <th>engine-location</th>\n",
       "      <th>width</th>\n",
       "      <th>height</th>\n",
       "      <th>engine-type</th>\n",
       "      <th>engine-size</th>\n",
       "      <th>horsepower</th>\n",
       "      <th>city-mpg</th>\n",
       "      <th>highway-mpg</th>\n",
       "    </tr>\n",
       "  </thead>\n",
       "  <tbody>\n",
       "    <tr>\n",
       "      <th>0</th>\n",
       "      <td>1.743470</td>\n",
       "      <td>3.466062e-17</td>\n",
       "      <td>-1.948256</td>\n",
       "      <td>0.328798</td>\n",
       "      <td>-3.050975</td>\n",
       "      <td>1.213330</td>\n",
       "      <td>-0.121867</td>\n",
       "      <td>-0.844782</td>\n",
       "      <td>-2.020417</td>\n",
       "      <td>-2.865105</td>\n",
       "      <td>0.074449</td>\n",
       "      <td>0.171065</td>\n",
       "      <td>-0.646553</td>\n",
       "      <td>-0.546059</td>\n",
       "    </tr>\n",
       "    <tr>\n",
       "      <th>1</th>\n",
       "      <td>1.743470</td>\n",
       "      <td>3.466062e-17</td>\n",
       "      <td>-1.948256</td>\n",
       "      <td>0.328798</td>\n",
       "      <td>-3.050975</td>\n",
       "      <td>1.213330</td>\n",
       "      <td>-0.121867</td>\n",
       "      <td>-0.844782</td>\n",
       "      <td>-2.020417</td>\n",
       "      <td>-2.865105</td>\n",
       "      <td>0.074449</td>\n",
       "      <td>0.171065</td>\n",
       "      <td>-0.646553</td>\n",
       "      <td>-0.546059</td>\n",
       "    </tr>\n",
       "    <tr>\n",
       "      <th>2</th>\n",
       "      <td>0.133509</td>\n",
       "      <td>3.466062e-17</td>\n",
       "      <td>-1.948256</td>\n",
       "      <td>0.328798</td>\n",
       "      <td>-0.717207</td>\n",
       "      <td>1.213330</td>\n",
       "      <td>-0.121867</td>\n",
       "      <td>-0.190566</td>\n",
       "      <td>-0.543527</td>\n",
       "      <td>1.886890</td>\n",
       "      <td>0.604046</td>\n",
       "      <td>1.261807</td>\n",
       "      <td>-0.953012</td>\n",
       "      <td>-0.691627</td>\n",
       "    </tr>\n",
       "    <tr>\n",
       "      <th>3</th>\n",
       "      <td>0.938490</td>\n",
       "      <td>1.328961e+00</td>\n",
       "      <td>-1.788499</td>\n",
       "      <td>0.328798</td>\n",
       "      <td>0.449677</td>\n",
       "      <td>-0.589081</td>\n",
       "      <td>-0.121867</td>\n",
       "      <td>0.136542</td>\n",
       "      <td>0.235942</td>\n",
       "      <td>-0.013908</td>\n",
       "      <td>-0.431076</td>\n",
       "      <td>-0.057230</td>\n",
       "      <td>-0.186865</td>\n",
       "      <td>-0.109354</td>\n",
       "    </tr>\n",
       "    <tr>\n",
       "      <th>4</th>\n",
       "      <td>0.938490</td>\n",
       "      <td>1.328961e+00</td>\n",
       "      <td>-1.788499</td>\n",
       "      <td>0.328798</td>\n",
       "      <td>0.449677</td>\n",
       "      <td>-2.391492</td>\n",
       "      <td>-0.121867</td>\n",
       "      <td>0.230001</td>\n",
       "      <td>0.235942</td>\n",
       "      <td>-0.013908</td>\n",
       "      <td>0.218885</td>\n",
       "      <td>0.272529</td>\n",
       "      <td>-1.106241</td>\n",
       "      <td>-1.273900</td>\n",
       "    </tr>\n",
       "    <tr>\n",
       "      <th>...</th>\n",
       "      <td>...</td>\n",
       "      <td>...</td>\n",
       "      <td>...</td>\n",
       "      <td>...</td>\n",
       "      <td>...</td>\n",
       "      <td>...</td>\n",
       "      <td>...</td>\n",
       "      <td>...</td>\n",
       "      <td>...</td>\n",
       "      <td>...</td>\n",
       "      <td>...</td>\n",
       "      <td>...</td>\n",
       "      <td>...</td>\n",
       "      <td>...</td>\n",
       "    </tr>\n",
       "    <tr>\n",
       "      <th>200</th>\n",
       "      <td>-1.476452</td>\n",
       "      <td>-8.543319e-01</td>\n",
       "      <td>1.406641</td>\n",
       "      <td>0.328798</td>\n",
       "      <td>0.449677</td>\n",
       "      <td>1.213330</td>\n",
       "      <td>-0.121867</td>\n",
       "      <td>1.398245</td>\n",
       "      <td>0.728239</td>\n",
       "      <td>-0.013908</td>\n",
       "      <td>0.339248</td>\n",
       "      <td>0.247163</td>\n",
       "      <td>-0.340094</td>\n",
       "      <td>-0.400490</td>\n",
       "    </tr>\n",
       "    <tr>\n",
       "      <th>201</th>\n",
       "      <td>-1.476452</td>\n",
       "      <td>-8.543319e-01</td>\n",
       "      <td>1.406641</td>\n",
       "      <td>0.328798</td>\n",
       "      <td>0.449677</td>\n",
       "      <td>1.213330</td>\n",
       "      <td>-0.121867</td>\n",
       "      <td>1.351515</td>\n",
       "      <td>0.728239</td>\n",
       "      <td>-0.013908</td>\n",
       "      <td>0.339248</td>\n",
       "      <td>1.414003</td>\n",
       "      <td>-0.953012</td>\n",
       "      <td>-0.837195</td>\n",
       "    </tr>\n",
       "    <tr>\n",
       "      <th>202</th>\n",
       "      <td>-1.476452</td>\n",
       "      <td>-8.543319e-01</td>\n",
       "      <td>1.406641</td>\n",
       "      <td>0.328798</td>\n",
       "      <td>0.449677</td>\n",
       "      <td>1.213330</td>\n",
       "      <td>-0.121867</td>\n",
       "      <td>1.398245</td>\n",
       "      <td>0.728239</td>\n",
       "      <td>1.886890</td>\n",
       "      <td>1.109571</td>\n",
       "      <td>0.754485</td>\n",
       "      <td>-1.106241</td>\n",
       "      <td>-1.128332</td>\n",
       "    </tr>\n",
       "    <tr>\n",
       "      <th>203</th>\n",
       "      <td>-1.476452</td>\n",
       "      <td>-8.543319e-01</td>\n",
       "      <td>1.406641</td>\n",
       "      <td>-3.041381</td>\n",
       "      <td>0.449677</td>\n",
       "      <td>1.213330</td>\n",
       "      <td>-0.121867</td>\n",
       "      <td>1.398245</td>\n",
       "      <td>0.728239</td>\n",
       "      <td>-0.013908</td>\n",
       "      <td>0.435538</td>\n",
       "      <td>0.044234</td>\n",
       "      <td>0.119594</td>\n",
       "      <td>-0.546059</td>\n",
       "    </tr>\n",
       "    <tr>\n",
       "      <th>204</th>\n",
       "      <td>-1.476452</td>\n",
       "      <td>-8.543319e-01</td>\n",
       "      <td>1.406641</td>\n",
       "      <td>0.328798</td>\n",
       "      <td>0.449677</td>\n",
       "      <td>1.213330</td>\n",
       "      <td>-0.121867</td>\n",
       "      <td>1.398245</td>\n",
       "      <td>0.728239</td>\n",
       "      <td>-0.013908</td>\n",
       "      <td>0.339248</td>\n",
       "      <td>0.247163</td>\n",
       "      <td>-0.953012</td>\n",
       "      <td>-0.837195</td>\n",
       "    </tr>\n",
       "  </tbody>\n",
       "</table>\n",
       "<p>205 rows × 14 columns</p>\n",
       "</div>"
      ],
      "text/plain": [
       "     symboling  normalized-losses      make  fuel-type  body-style  \\\n",
       "0     1.743470       3.466062e-17 -1.948256   0.328798   -3.050975   \n",
       "1     1.743470       3.466062e-17 -1.948256   0.328798   -3.050975   \n",
       "2     0.133509       3.466062e-17 -1.948256   0.328798   -0.717207   \n",
       "3     0.938490       1.328961e+00 -1.788499   0.328798    0.449677   \n",
       "4     0.938490       1.328961e+00 -1.788499   0.328798    0.449677   \n",
       "..         ...                ...       ...        ...         ...   \n",
       "200  -1.476452      -8.543319e-01  1.406641   0.328798    0.449677   \n",
       "201  -1.476452      -8.543319e-01  1.406641   0.328798    0.449677   \n",
       "202  -1.476452      -8.543319e-01  1.406641   0.328798    0.449677   \n",
       "203  -1.476452      -8.543319e-01  1.406641  -3.041381    0.449677   \n",
       "204  -1.476452      -8.543319e-01  1.406641   0.328798    0.449677   \n",
       "\n",
       "     drive-wheels  engine-location     width    height  engine-type  \\\n",
       "0        1.213330        -0.121867 -0.844782 -2.020417    -2.865105   \n",
       "1        1.213330        -0.121867 -0.844782 -2.020417    -2.865105   \n",
       "2        1.213330        -0.121867 -0.190566 -0.543527     1.886890   \n",
       "3       -0.589081        -0.121867  0.136542  0.235942    -0.013908   \n",
       "4       -2.391492        -0.121867  0.230001  0.235942    -0.013908   \n",
       "..            ...              ...       ...       ...          ...   \n",
       "200      1.213330        -0.121867  1.398245  0.728239    -0.013908   \n",
       "201      1.213330        -0.121867  1.351515  0.728239    -0.013908   \n",
       "202      1.213330        -0.121867  1.398245  0.728239     1.886890   \n",
       "203      1.213330        -0.121867  1.398245  0.728239    -0.013908   \n",
       "204      1.213330        -0.121867  1.398245  0.728239    -0.013908   \n",
       "\n",
       "     engine-size  horsepower  city-mpg  highway-mpg  \n",
       "0       0.074449    0.171065 -0.646553    -0.546059  \n",
       "1       0.074449    0.171065 -0.646553    -0.546059  \n",
       "2       0.604046    1.261807 -0.953012    -0.691627  \n",
       "3      -0.431076   -0.057230 -0.186865    -0.109354  \n",
       "4       0.218885    0.272529 -1.106241    -1.273900  \n",
       "..           ...         ...       ...          ...  \n",
       "200     0.339248    0.247163 -0.340094    -0.400490  \n",
       "201     0.339248    1.414003 -0.953012    -0.837195  \n",
       "202     1.109571    0.754485 -1.106241    -1.128332  \n",
       "203     0.435538    0.044234  0.119594    -0.546059  \n",
       "204     0.339248    0.247163 -0.953012    -0.837195  \n",
       "\n",
       "[205 rows x 14 columns]"
      ]
     },
     "execution_count": 34,
     "metadata": {},
     "output_type": "execute_result"
    }
   ],
   "source": [
    "x = sc.fit_transform(x)\n",
    "x = pd.DataFrame(x, columns=['symboling', 'normalized-losses', 'make', 'fuel-type', 'body-style',\n",
    "       'drive-wheels', 'engine-location', 'width', 'height', 'engine-type',\n",
    "       'engine-size', 'horsepower', 'city-mpg', 'highway-mpg'])\n",
    "x"
   ]
  },
  {
   "cell_type": "markdown",
   "id": "c8d68ce4",
   "metadata": {},
   "source": [
    "# Model Building"
   ]
  },
  {
   "cell_type": "code",
   "execution_count": 18,
   "id": "48322166",
   "metadata": {
    "ExecuteTime": {
     "end_time": "2023-03-17T11:11:37.792135Z",
     "start_time": "2023-03-17T11:11:37.772757Z"
    }
   },
   "outputs": [],
   "source": [
    "xtrain,xtest,ytrain,ytest = train_test_split(x,y,test_size=0.25,random_state=1)"
   ]
  },
  {
   "cell_type": "markdown",
   "id": "40e0b612",
   "metadata": {},
   "source": [
    "# Linear Regression"
   ]
  },
  {
   "cell_type": "code",
   "execution_count": 19,
   "id": "26e6f7b4",
   "metadata": {
    "ExecuteTime": {
     "end_time": "2023-03-17T11:12:29.810027Z",
     "start_time": "2023-03-17T11:12:29.623382Z"
    }
   },
   "outputs": [
    {
     "name": "stdout",
     "output_type": "stream",
     "text": [
      "0.8426404740417467\n",
      "0.8174935371483152\n"
     ]
    }
   ],
   "source": [
    "lr = LinearRegression()\n",
    "lr.fit(xtrain,ytrain)\n",
    "ypred = lr.predict(xtest)\n",
    "print(lr.score(xtrain,ytrain))\n",
    "print(lr.score(xtest,ytest))"
   ]
  },
  {
   "cell_type": "code",
   "execution_count": 20,
   "id": "f2240d07",
   "metadata": {
    "ExecuteTime": {
     "end_time": "2023-03-17T11:12:56.091489Z",
     "start_time": "2023-03-17T11:12:56.070543Z"
    }
   },
   "outputs": [
    {
     "data": {
      "text/plain": [
       "array([   17.25303655,     4.79335609, -1188.25134623,   -68.60684114,\n",
       "        -156.8647891 ,  1084.90518744,  1923.38798081,  1671.40036556,\n",
       "         786.55498954,   381.18938257,  4046.45606814,  -442.50497236,\n",
       "        1395.19725703, -2298.83591186])"
      ]
     },
     "execution_count": 20,
     "metadata": {},
     "output_type": "execute_result"
    }
   ],
   "source": [
    "lr.coef_"
   ]
  },
  {
   "cell_type": "code",
   "execution_count": 21,
   "id": "3090930f",
   "metadata": {
    "ExecuteTime": {
     "end_time": "2023-03-17T11:13:34.392481Z",
     "start_time": "2023-03-17T11:13:34.372468Z"
    }
   },
   "outputs": [
    {
     "data": {
      "text/plain": [
       "13085.49253371863"
      ]
     },
     "execution_count": 21,
     "metadata": {},
     "output_type": "execute_result"
    }
   ],
   "source": [
    "lr.intercept_"
   ]
  },
  {
   "cell_type": "code",
   "execution_count": 23,
   "id": "9d72a849",
   "metadata": {
    "ExecuteTime": {
     "end_time": "2023-03-17T11:14:37.138940Z",
     "start_time": "2023-03-17T11:14:37.119957Z"
    }
   },
   "outputs": [
    {
     "name": "stdout",
     "output_type": "stream",
     "text": [
      "12228004.50250261\n",
      "3496.8563743028694\n"
     ]
    }
   ],
   "source": [
    "print(mean_squared_error(ytest,ypred))\n",
    "print(np.sqrt(mean_squared_error(ytest,ypred)))"
   ]
  },
  {
   "cell_type": "markdown",
   "id": "29f54292",
   "metadata": {},
   "source": [
    "# Lasso Regression"
   ]
  },
  {
   "cell_type": "code",
   "execution_count": 24,
   "id": "1dceaf90",
   "metadata": {
    "ExecuteTime": {
     "end_time": "2023-03-17T11:16:12.049357Z",
     "start_time": "2023-03-17T11:16:11.985679Z"
    }
   },
   "outputs": [
    {
     "name": "stdout",
     "output_type": "stream",
     "text": [
      "0.8426389275234948\n",
      "0.8176044872313545\n"
     ]
    }
   ],
   "source": [
    "lasso = Lasso()\n",
    "lasso.fit(xtrain,ytrain)\n",
    "print(lasso.score(xtrain,ytrain))\n",
    "print(lasso.score(xtest,ytest))"
   ]
  },
  {
   "cell_type": "code",
   "execution_count": 26,
   "id": "19837adc",
   "metadata": {
    "ExecuteTime": {
     "end_time": "2023-03-17T11:18:42.295320Z",
     "start_time": "2023-03-17T11:18:42.019636Z"
    },
    "collapsed": true
   },
   "outputs": [
    {
     "name": "stdout",
     "output_type": "stream",
     "text": [
      "100 0.8383929207238536 0.8237805071712705\n",
      "101 0.8383714809341707 0.8237689132189763\n",
      "102 0.8383498277364144 0.8237571663276865\n",
      "103 0.8383279611082594 0.8237452665472498\n",
      "104 0.8383058809836941 0.8237332140219924\n",
      "105 0.8382837038932145 0.823721875602608\n",
      "106 0.8382611956405709 0.8237095037594837\n",
      "107 0.8382384758788841 0.823696987643583\n",
      "108 0.8382155436362211 0.8236843228971659\n",
      "109 0.8381923979954164 0.823671505208569\n",
      "110 0.8381690389599711 0.8236585345747535\n",
      "111 0.8381454665222472 0.8236454110027838\n",
      "112 0.8381216807101902 0.8236321340003632\n",
      "113 0.8380976815323601 0.8236187024112431\n",
      "114 0.8380734689969039 0.8236051169624502\n",
      "115 0.8380490430609622 0.8235913785748314\n",
      "116 0.8380244037245346 0.8235774872483869\n",
      "117 0.8379995509876212 0.8235634429831165\n",
      "118 0.8379744848409989 0.8235492457941186\n",
      "119 0.8379492059771121 0.8235348984824926\n",
      "120 0.8379237149322113 0.8235204028290763\n",
      "121 0.8378980105188847 0.823505754244833\n",
      "122 0.8378720927371326 0.8234909527297625\n",
      "123 0.8378459615960292 0.8234759981643015\n",
      "124 0.8378196172623329 0.8234608883714265\n",
      "125 0.8377930595546297 0.8234456256671692\n",
      "126 0.8377662882838481 0.8234302104850512\n",
      "127 0.8377393036442906 0.8234146423714226\n",
      "128 0.8377121056359572 0.8233989213262833\n",
      "129 0.8376846942588478 0.8233830473496339\n",
      "130 0.8376570695129626 0.8233670204414736\n",
      "131 0.8376292313983015 0.8233508406018027\n",
      "132 0.8376011799148644 0.8233345078306213\n",
      "133 0.8375729150626514 0.8233180221279295\n",
      "134 0.8375444368416625 0.8233013834937268\n",
      "135 0.8375157452518975 0.8232845919280138\n",
      "136 0.8374868409975567 0.8232676494909654\n",
      "137 0.8374577237325194 0.8232505551348754\n",
      "138 0.8374283931143298 0.8232333078509606\n",
      "139 0.8373988494568679 0.8232159082199986\n",
      "140 0.8373690925416403 0.8231983558291741\n",
      "141 0.8373391222791271 0.8231806505117758\n",
      "142 0.8373089387839479 0.8231627910578063\n",
      "143 0.837278541976787 0.8231447783237581\n",
      "144 0.8372479318211965 0.8231266126274855\n",
      "145 0.8372171083178522 0.8231082939771442\n",
      "146 0.8371860714692045 0.8230898224000506\n",
      "147 0.8371548212752534 0.8230711978962043\n",
      "148 0.8371233577359988 0.8230524204656056\n",
      "149 0.8370916808514407 0.8230334901082544\n",
      "150 0.8370597906215791 0.8230144068241506\n",
      "151 0.8370276870464141 0.8229951706132944\n",
      "152 0.8369953700393267 0.8229757805639089\n",
      "153 0.8369628395716816 0.822956236394094\n",
      "154 0.8369300957560365 0.8229365392963861\n",
      "155 0.8368971385923915 0.8229166892707853\n",
      "156 0.8368639680807464 0.8228966863172915\n",
      "157 0.8368305842211011 0.8228765304359048\n",
      "158 0.836796987013456 0.8228562216266251\n",
      "159 0.836763176742437 0.8228357599347\n",
      "160 0.8367291532008946 0.8228151453272624\n",
      "161 0.8366949163158802 0.8227943777927228\n",
      "162 0.836660466087394 0.8227734573310812\n",
      "163 0.8366258025154356 0.8227523839423376\n",
      "164 0.8365909256000055 0.8227311576264922\n",
      "165 0.8365558353411032 0.8227097783835445\n",
      "166 0.8365205317387292 0.822688246213495\n",
      "167 0.8364850147928831 0.8226665611163435\n",
      "168 0.836449284503565 0.8226447230920899\n",
      "169 0.836413340870775 0.8226227321407344\n",
      "170 0.8363771838945131 0.8226005882622769\n",
      "171 0.8363408135747792 0.8225782914567175\n",
      "172 0.8363042299115735 0.8225558417240559\n",
      "173 0.8362674329226985 0.8225332388584234\n",
      "174 0.8362304226369612 0.8225104825319904\n",
      "175 0.836193199008477 0.8224875732783423\n",
      "176 0.8361557620372458 0.8224645110974792\n",
      "177 0.8361181117232677 0.8224412959894012\n",
      "178 0.8360802480665425 0.8224179279541081\n",
      "179 0.8360421710670702 0.8223944069915998\n",
      "180 0.8360038806113886 0.8223707334104475\n",
      "181 0.8359654528483609 0.8223478425599666\n",
      "182 0.835926736651784 0.8223238574565708\n",
      "183 0.8358878072781752 0.8222997193210243\n",
      "184 0.8358486645677585 0.8222754282574332\n",
      "185 0.8358093085184571 0.8222509841399143\n",
      "186 0.835769739126659 0.8222263867533872\n",
      "187 0.8357299563979489 0.8222016364386473\n",
      "188 0.8356899603323271 0.8221767331956943\n",
      "189 0.8356497509297935 0.8221516770245283\n",
      "190 0.835609328190348 0.8221264679251494\n",
      "191 0.835568692113991 0.8221011058975575\n",
      "192 0.835527842700722 0.8220755909417525\n",
      "193 0.8354867799505413 0.8220499230577347\n",
      "194 0.8354455038634487 0.8220241022455037\n",
      "195 0.8354040144394446 0.8219981285050599\n",
      "196 0.8353623116785285 0.8219720018364032\n",
      "197 0.8353203956771799 0.8219457165571568\n",
      "198 0.8352782663419097 0.8219192782146911\n",
      "199 0.8352359236704644 0.8218926869422283\n"
     ]
    }
   ],
   "source": [
    "for i in range(100,200):\n",
    "    lasso = Lasso(alpha=i)\n",
    "    lasso.fit(xtrain,ytrain)\n",
    "    print(f\"{i} {lasso.score(xtrain,ytrain)} {lasso.score(xtest,ytest)}\")"
   ]
  },
  {
   "cell_type": "code",
   "execution_count": 27,
   "id": "43c9575a",
   "metadata": {
    "ExecuteTime": {
     "end_time": "2023-03-17T11:19:47.851004Z",
     "start_time": "2023-03-17T11:19:47.833775Z"
    }
   },
   "outputs": [
    {
     "name": "stdout",
     "output_type": "stream",
     "text": [
      "0.8352359236704644\n",
      "0.8218926869422283\n"
     ]
    }
   ],
   "source": [
    "l1 = Lasso(alpha=199)\n",
    "\n",
    "l1.fit(xtrain,ytrain)\n",
    "print(l1.score(xtrain,ytrain))\n",
    "print(l1.score(xtest,ytest))"
   ]
  },
  {
   "cell_type": "code",
   "execution_count": 29,
   "id": "93879396",
   "metadata": {
    "ExecuteTime": {
     "end_time": "2023-03-17T11:21:10.906508Z",
     "start_time": "2023-03-17T11:21:10.881988Z"
    }
   },
   "outputs": [
    {
     "data": {
      "text/plain": [
       "array([   17.25303655,     4.79335609, -1188.25134623,   -68.60684114,\n",
       "        -156.8647891 ,  1084.90518744,  1923.38798081,  1671.40036556,\n",
       "         786.55498954,   381.18938257,  4046.45606814,  -442.50497236,\n",
       "        1395.19725703, -2298.83591186])"
      ]
     },
     "execution_count": 29,
     "metadata": {},
     "output_type": "execute_result"
    }
   ],
   "source": [
    "lr.coef_"
   ]
  },
  {
   "cell_type": "code",
   "execution_count": 28,
   "id": "f3da6066",
   "metadata": {
    "ExecuteTime": {
     "end_time": "2023-03-17T11:20:57.287955Z",
     "start_time": "2023-03-17T11:20:57.275904Z"
    }
   },
   "outputs": [
    {
     "data": {
      "text/plain": [
       "array([  -0.        ,    0.        , -932.77085464,  -55.56241125,\n",
       "         -0.        ,  912.85071909, 1656.1421693 , 1538.60758589,\n",
       "        587.82745736,  223.57959712, 3895.08588367,    0.        ,\n",
       "         -0.        , -734.47668879])"
      ]
     },
     "execution_count": 28,
     "metadata": {},
     "output_type": "execute_result"
    }
   ],
   "source": [
    "l1.coef_"
   ]
  },
  {
   "cell_type": "code",
   "execution_count": 35,
   "id": "4362f9f7",
   "metadata": {
    "ExecuteTime": {
     "end_time": "2023-03-17T11:23:31.205106Z",
     "start_time": "2023-03-17T11:23:31.164541Z"
    }
   },
   "outputs": [
    {
     "data": {
      "text/html": [
       "<div>\n",
       "<style scoped>\n",
       "    .dataframe tbody tr th:only-of-type {\n",
       "        vertical-align: middle;\n",
       "    }\n",
       "\n",
       "    .dataframe tbody tr th {\n",
       "        vertical-align: top;\n",
       "    }\n",
       "\n",
       "    .dataframe thead th {\n",
       "        text-align: right;\n",
       "    }\n",
       "</style>\n",
       "<table border=\"1\" class=\"dataframe\">\n",
       "  <thead>\n",
       "    <tr style=\"text-align: right;\">\n",
       "      <th></th>\n",
       "      <th>symboling</th>\n",
       "      <th>normalized-losses</th>\n",
       "      <th>make</th>\n",
       "      <th>fuel-type</th>\n",
       "      <th>body-style</th>\n",
       "      <th>drive-wheels</th>\n",
       "      <th>engine-location</th>\n",
       "      <th>width</th>\n",
       "      <th>height</th>\n",
       "      <th>engine-type</th>\n",
       "      <th>engine-size</th>\n",
       "      <th>horsepower</th>\n",
       "      <th>city-mpg</th>\n",
       "      <th>highway-mpg</th>\n",
       "    </tr>\n",
       "  </thead>\n",
       "  <tbody>\n",
       "    <tr>\n",
       "      <th>0</th>\n",
       "      <td>-0.0</td>\n",
       "      <td>0.0</td>\n",
       "      <td>-932.770855</td>\n",
       "      <td>-55.562411</td>\n",
       "      <td>-0.0</td>\n",
       "      <td>912.850719</td>\n",
       "      <td>1656.142169</td>\n",
       "      <td>1538.607586</td>\n",
       "      <td>587.827457</td>\n",
       "      <td>223.579597</td>\n",
       "      <td>3895.085884</td>\n",
       "      <td>0.0</td>\n",
       "      <td>-0.0</td>\n",
       "      <td>-734.476689</td>\n",
       "    </tr>\n",
       "  </tbody>\n",
       "</table>\n",
       "</div>"
      ],
      "text/plain": [
       "   symboling  normalized-losses        make  fuel-type  body-style  \\\n",
       "0       -0.0                0.0 -932.770855 -55.562411        -0.0   \n",
       "\n",
       "   drive-wheels  engine-location        width      height  engine-type  \\\n",
       "0    912.850719      1656.142169  1538.607586  587.827457   223.579597   \n",
       "\n",
       "   engine-size  horsepower  city-mpg  highway-mpg  \n",
       "0  3895.085884         0.0      -0.0  -734.476689  "
      ]
     },
     "execution_count": 35,
     "metadata": {},
     "output_type": "execute_result"
    }
   ],
   "source": [
    "features = pd.DataFrame(l1.coef_).T\n",
    "features.columns = x.columns\n",
    "features"
   ]
  },
  {
   "cell_type": "markdown",
   "id": "c33a94b3",
   "metadata": {
    "ExecuteTime": {
     "end_time": "2022-12-07T11:32:19.960407Z",
     "start_time": "2022-12-07T11:32:19.946214Z"
    }
   },
   "source": [
    "# Ridge Regression"
   ]
  },
  {
   "cell_type": "code",
   "execution_count": 37,
   "id": "3a856bad",
   "metadata": {
    "ExecuteTime": {
     "end_time": "2023-03-17T11:24:56.912163Z",
     "start_time": "2023-03-17T11:24:56.638368Z"
    },
    "scrolled": true
   },
   "outputs": [
    {
     "name": "stdout",
     "output_type": "stream",
     "text": [
      "10 0.8382513325569908 0.8227160379230571\n",
      "11 0.8377130549154546 0.8227072484490273\n",
      "12 0.837171784239692 0.8226520961352164\n",
      "13 0.83662849401716 0.8225562468778781\n",
      "14 0.8360839420379627 0.8224245039194631\n",
      "15 0.8355387182716452 0.8222609650731116\n",
      "16 0.8349932811975809 0.8220691464554246\n",
      "17 0.8344479857501791 0.8218520809812341\n",
      "18 0.8339031050269655 0.821612397526915\n",
      "19 0.8333588472779054 0.8213523850905019\n",
      "20 0.8328153692801158 0.8210740451795412\n",
      "21 0.8322727869175006 0.820779134874576\n",
      "22 0.8317311835828203 0.820469202445878\n",
      "23 0.8311906168728274 0.8201456169787504\n",
      "24 0.8306511239383914 0.819809593145765\n",
      "25 0.8301127257699885 0.8194622120235938\n",
      "26 0.829575430637093 0.8191044386675062\n",
      "27 0.8290392368527305 0.818737137013753\n",
      "28 0.828504134998042 0.8183610825686676\n",
      "29 0.8279701097134898 0.8179769732558053\n",
      "30 0.8274371411413661 0.8175854387232493\n",
      "31 0.8269052060870512 0.8171870483581578\n",
      "32 0.8263742789529538 0.8167823182115845\n",
      "33 0.8258443324883766 0.8163717170011624\n",
      "34 0.8253153383900954 0.8159556713305969\n",
      "35 0.8247872677817065 0.8155345702416279\n",
      "36 0.8242600915944273 0.8151087691951286\n",
      "37 0.8237337808677352 0.8146785935624296\n",
      "38 0.823208306984779 0.8142443416951417\n",
      "39 0.8226836418547123 0.8138062876311543\n",
      "40 0.822159758051861 0.8133646834856961\n",
      "41 0.8216366289198106 0.8129197615690322\n",
      "42 0.8211142286470323 0.8124717362662516\n",
      "43 0.8205925323194618 0.81202080570948\n",
      "44 0.8200715159544696 0.8115671532685358\n",
      "45 0.8195511565198612 0.8111109488824153\n",
      "46 0.8190314319408957 0.81065235025091\n",
      "47 0.8185123210977697 0.810191503903053\n",
      "48 0.81799380381558 0.8097285461568612\n",
      "49 0.8174758608484123 0.8092636039829473\n",
      "50 0.8169584738589093 0.8087967957829519\n",
      "51 0.8164416253944222 0.808328232092351\n",
      "52 0.8159252988606517 0.8078580162159984\n",
      "53 0.815409478493514 0.8073862448037301\n",
      "54 0.8148941493298325 0.8069130083724652\n",
      "55 0.8143792971773384 0.8064383917804684\n",
      "56 0.8138649085843728 0.8059624746587637\n",
      "57 0.8133509708096033 0.8054853318041113\n",
      "58 0.8128374717920026 0.805007033537452\n",
      "59 0.8123244001212877 0.8045276460312745\n",
      "60 0.8118117450089677 0.8040472316089806\n",
      "61 0.8112994962601212 0.8035658490189793\n",
      "62 0.8107876442459863 0.8030835536859424\n",
      "63 0.8102761798774257 0.8026003979413938\n",
      "64 0.8097650945793113 0.8021164312355717\n",
      "65 0.8092543802658525 0.8016317003323019\n",
      "66 0.8087440293168817 0.8011462494884342\n",
      "67 0.8082340345550996 0.8006601206192421\n",
      "68 0.8077243892242757 0.8001733534510378\n",
      "69 0.8072150869683884 0.7996859856621318\n",
      "70 0.8067061218116893 0.7991980530131553\n",
      "71 0.8061974881396694 0.7987095894676626\n",
      "72 0.8056891806808997 0.7982206273038404\n",
      "73 0.8051811944897234 0.7977311972180771\n",
      "74 0.8046735249297671 0.7972413284210678\n",
      "75 0.8041661676582417 0.7967510487270713\n",
      "76 0.8036591186110047 0.7962603846368762\n",
      "77 0.8031523739883513 0.7957693614149859\n",
      "78 0.8026459302415042 0.7952780031614806\n",
      "79 0.8021397840597726 0.7947863328789777\n",
      "80 0.8016339323583493 0.7942943725350737\n",
      "81 0.8011283722667191 0.7938021431206149\n",
      "82 0.8006231011176478 0.793309664704118\n",
      "83 0.8001181164367259 0.79281695648263\n",
      "84 0.7996134159324407 0.792324036829295\n",
      "85 0.7991089974867494 0.791830923337872\n",
      "86 0.7986048591461308 0.791337632864427\n",
      "87 0.7981009991130913 0.7908441815664058\n",
      "88 0.7975974157381015 0.7903505849392732\n",
      "89 0.7970941075119429 0.7898568578508968\n",
      "90 0.7965910730584436 0.7893630145738286\n",
      "91 0.7960883111275842 0.7888690688156372\n",
      "92 0.7955858205889523 0.7883750337474215\n",
      "93 0.7950836004255319 0.7878809220306309\n",
      "94 0.7945816497278063 0.7873867458423103\n",
      "95 0.7940799676881614 0.7868925168988716\n",
      "96 0.7935785535955723 0.7863982464784937\n",
      "97 0.7930774068305593 0.7859039454422381\n",
      "98 0.7925765268603988 0.7854096242539689\n",
      "99 0.7920759132345767 0.7849152929991488\n"
     ]
    }
   ],
   "source": [
    "for i in range(10,100):\n",
    "    l2 = Ridge(alpha=i)\n",
    "    l2.fit(xtrain,ytrain)\n",
    "    print(f\"{i} {l2.score(xtrain,ytrain)} {l2.score(xtest,ytest)}\")"
   ]
  },
  {
   "cell_type": "code",
   "execution_count": 38,
   "id": "825f6eac",
   "metadata": {
    "ExecuteTime": {
     "end_time": "2023-03-17T11:25:55.076218Z",
     "start_time": "2023-03-17T11:25:55.058753Z"
    }
   },
   "outputs": [
    {
     "name": "stdout",
     "output_type": "stream",
     "text": [
      "0.8195511565198612\n",
      "0.8111109488824153\n"
     ]
    }
   ],
   "source": [
    "l2 = Ridge(alpha=45)\n",
    "l2.fit(xtrain,ytrain)\n",
    "print(l2.score(xtrain,ytrain))\n",
    "print(l2.score(xtest,ytest))"
   ]
  },
  {
   "cell_type": "code",
   "execution_count": 39,
   "id": "53d0de1e",
   "metadata": {
    "ExecuteTime": {
     "end_time": "2023-03-17T11:27:01.958958Z",
     "start_time": "2023-03-17T11:27:01.943747Z"
    }
   },
   "outputs": [
    {
     "data": {
      "text/plain": [
       "array([-194.30978175,   34.62508051, -935.9039786 , -463.55138064,\n",
       "       -267.85788861,  984.98283582, 1421.05863223, 1376.89188167,\n",
       "        680.97960365,  416.54018662, 2435.5641169 ,  758.34601021,\n",
       "       -405.88907264, -811.55883293])"
      ]
     },
     "execution_count": 39,
     "metadata": {},
     "output_type": "execute_result"
    }
   ],
   "source": [
    "l2.coef_"
   ]
  },
  {
   "cell_type": "markdown",
   "id": "b369a741",
   "metadata": {},
   "source": [
    "# Elastic Net "
   ]
  },
  {
   "cell_type": "code",
   "execution_count": 40,
   "id": "c208515d",
   "metadata": {
    "ExecuteTime": {
     "end_time": "2023-03-17T11:28:18.493405Z",
     "start_time": "2023-03-17T11:28:18.477219Z"
    }
   },
   "outputs": [
    {
     "name": "stdout",
     "output_type": "stream",
     "text": [
      "0.8033783817373423\n",
      "0.7959913488083025\n"
     ]
    }
   ],
   "source": [
    "elastic = ElasticNet()\n",
    "elastic.fit(xtrain,ytrain)\n",
    "print(elastic.score(xtrain,ytrain))\n",
    "print(elastic.score(xtest,ytest))"
   ]
  },
  {
   "cell_type": "code",
   "execution_count": null,
   "id": "533c9daf",
   "metadata": {},
   "outputs": [],
   "source": []
  }
 ],
 "metadata": {
  "kernelspec": {
   "display_name": "Python 3 (ipykernel)",
   "language": "python",
   "name": "python3"
  },
  "language_info": {
   "codemirror_mode": {
    "name": "ipython",
    "version": 3
   },
   "file_extension": ".py",
   "mimetype": "text/x-python",
   "name": "python",
   "nbconvert_exporter": "python",
   "pygments_lexer": "ipython3",
   "version": "3.9.13"
  }
 },
 "nbformat": 4,
 "nbformat_minor": 5
}
