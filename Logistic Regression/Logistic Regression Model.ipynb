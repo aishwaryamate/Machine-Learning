{
 "cells": [
  {
   "cell_type": "markdown",
   "id": "1d5a0e88",
   "metadata": {
    "ExecuteTime": {
     "end_time": "2023-04-17T04:02:06.090100Z",
     "start_time": "2023-04-17T04:02:01.413495Z"
    }
   },
   "source": [
    "# Problem Statement:\n",
    "- Goal is to create a classification model which can predict all positive classes correctly.(Recall Should be high.)"
   ]
  },
  {
   "cell_type": "code",
   "execution_count": 1,
   "id": "dc6bd246",
   "metadata": {
    "ExecuteTime": {
     "end_time": "2023-10-15T03:38:49.348985Z",
     "start_time": "2023-10-15T03:38:42.328297Z"
    }
   },
   "outputs": [],
   "source": [
    "import pandas as pd\n",
    "import numpy as np\n",
    "import matplotlib.pyplot as plt\n",
    "import seaborn as sns\n",
    "plt.rcParams['figure.figsize'] = (10,5)\n",
    "plt.rcParams['figure.dpi'] = 250\n",
    "import warnings\n",
    "warnings.filterwarnings('ignore')\n",
    "%matplotlib inline"
   ]
  },
  {
   "cell_type": "code",
   "execution_count": 4,
   "id": "186d4b04",
   "metadata": {
    "ExecuteTime": {
     "end_time": "2023-10-15T03:38:50.058784Z",
     "start_time": "2023-10-15T03:38:49.362131Z"
    }
   },
   "outputs": [
    {
     "data": {
      "text/html": [
       "<div>\n",
       "<style scoped>\n",
       "    .dataframe tbody tr th:only-of-type {\n",
       "        vertical-align: middle;\n",
       "    }\n",
       "\n",
       "    .dataframe tbody tr th {\n",
       "        vertical-align: top;\n",
       "    }\n",
       "\n",
       "    .dataframe thead th {\n",
       "        text-align: right;\n",
       "    }\n",
       "</style>\n",
       "<table border=\"1\" class=\"dataframe\">\n",
       "  <thead>\n",
       "    <tr style=\"text-align: right;\">\n",
       "      <th></th>\n",
       "      <th>CASENUM</th>\n",
       "      <th>ATTORNEY</th>\n",
       "      <th>CLMSEX</th>\n",
       "      <th>CLMINSUR</th>\n",
       "      <th>SEATBELT</th>\n",
       "      <th>CLMAGE</th>\n",
       "      <th>LOSS</th>\n",
       "    </tr>\n",
       "  </thead>\n",
       "  <tbody>\n",
       "    <tr>\n",
       "      <th>0</th>\n",
       "      <td>5</td>\n",
       "      <td>1</td>\n",
       "      <td>0.0</td>\n",
       "      <td>1.0</td>\n",
       "      <td>0.0</td>\n",
       "      <td>50.0</td>\n",
       "      <td>34.940</td>\n",
       "    </tr>\n",
       "    <tr>\n",
       "      <th>1</th>\n",
       "      <td>3</td>\n",
       "      <td>0</td>\n",
       "      <td>1.0</td>\n",
       "      <td>0.0</td>\n",
       "      <td>0.0</td>\n",
       "      <td>18.0</td>\n",
       "      <td>0.891</td>\n",
       "    </tr>\n",
       "    <tr>\n",
       "      <th>2</th>\n",
       "      <td>66</td>\n",
       "      <td>0</td>\n",
       "      <td>0.0</td>\n",
       "      <td>1.0</td>\n",
       "      <td>0.0</td>\n",
       "      <td>5.0</td>\n",
       "      <td>0.330</td>\n",
       "    </tr>\n",
       "    <tr>\n",
       "      <th>3</th>\n",
       "      <td>70</td>\n",
       "      <td>1</td>\n",
       "      <td>0.0</td>\n",
       "      <td>1.0</td>\n",
       "      <td>1.0</td>\n",
       "      <td>31.0</td>\n",
       "      <td>0.037</td>\n",
       "    </tr>\n",
       "    <tr>\n",
       "      <th>4</th>\n",
       "      <td>96</td>\n",
       "      <td>0</td>\n",
       "      <td>0.0</td>\n",
       "      <td>1.0</td>\n",
       "      <td>0.0</td>\n",
       "      <td>30.0</td>\n",
       "      <td>0.038</td>\n",
       "    </tr>\n",
       "    <tr>\n",
       "      <th>...</th>\n",
       "      <td>...</td>\n",
       "      <td>...</td>\n",
       "      <td>...</td>\n",
       "      <td>...</td>\n",
       "      <td>...</td>\n",
       "      <td>...</td>\n",
       "      <td>...</td>\n",
       "    </tr>\n",
       "    <tr>\n",
       "      <th>1335</th>\n",
       "      <td>34100</td>\n",
       "      <td>0</td>\n",
       "      <td>0.0</td>\n",
       "      <td>1.0</td>\n",
       "      <td>0.0</td>\n",
       "      <td>NaN</td>\n",
       "      <td>0.576</td>\n",
       "    </tr>\n",
       "    <tr>\n",
       "      <th>1336</th>\n",
       "      <td>34110</td>\n",
       "      <td>1</td>\n",
       "      <td>1.0</td>\n",
       "      <td>1.0</td>\n",
       "      <td>0.0</td>\n",
       "      <td>46.0</td>\n",
       "      <td>3.705</td>\n",
       "    </tr>\n",
       "    <tr>\n",
       "      <th>1337</th>\n",
       "      <td>34113</td>\n",
       "      <td>0</td>\n",
       "      <td>1.0</td>\n",
       "      <td>1.0</td>\n",
       "      <td>0.0</td>\n",
       "      <td>39.0</td>\n",
       "      <td>0.099</td>\n",
       "    </tr>\n",
       "    <tr>\n",
       "      <th>1338</th>\n",
       "      <td>34145</td>\n",
       "      <td>1</td>\n",
       "      <td>1.0</td>\n",
       "      <td>0.0</td>\n",
       "      <td>0.0</td>\n",
       "      <td>8.0</td>\n",
       "      <td>3.177</td>\n",
       "    </tr>\n",
       "    <tr>\n",
       "      <th>1339</th>\n",
       "      <td>34153</td>\n",
       "      <td>0</td>\n",
       "      <td>1.0</td>\n",
       "      <td>1.0</td>\n",
       "      <td>0.0</td>\n",
       "      <td>30.0</td>\n",
       "      <td>0.688</td>\n",
       "    </tr>\n",
       "  </tbody>\n",
       "</table>\n",
       "<p>1340 rows × 7 columns</p>\n",
       "</div>"
      ],
      "text/plain": [
       "      CASENUM  ATTORNEY  CLMSEX  CLMINSUR  SEATBELT  CLMAGE    LOSS\n",
       "0           5         1     0.0       1.0       0.0    50.0  34.940\n",
       "1           3         0     1.0       0.0       0.0    18.0   0.891\n",
       "2          66         0     0.0       1.0       0.0     5.0   0.330\n",
       "3          70         1     0.0       1.0       1.0    31.0   0.037\n",
       "4          96         0     0.0       1.0       0.0    30.0   0.038\n",
       "...       ...       ...     ...       ...       ...     ...     ...\n",
       "1335    34100         0     0.0       1.0       0.0     NaN   0.576\n",
       "1336    34110         1     1.0       1.0       0.0    46.0   3.705\n",
       "1337    34113         0     1.0       1.0       0.0    39.0   0.099\n",
       "1338    34145         1     1.0       0.0       0.0     8.0   3.177\n",
       "1339    34153         0     1.0       1.0       0.0    30.0   0.688\n",
       "\n",
       "[1340 rows x 7 columns]"
      ]
     },
     "execution_count": 4,
     "metadata": {},
     "output_type": "execute_result"
    }
   ],
   "source": [
    "df = pd.read_csv('https://raw.githubusercontent.com/aishwaryamate/Datasets/main/Client.csv',\n",
    "                index_col=0)\n",
    "df"
   ]
  },
  {
   "cell_type": "code",
   "execution_count": 5,
   "id": "c63c4f91",
   "metadata": {
    "ExecuteTime": {
     "end_time": "2023-10-15T03:38:50.074355Z",
     "start_time": "2023-10-15T03:38:50.062795Z"
    }
   },
   "outputs": [],
   "source": [
    "df.drop(columns=['CASENUM'], inplace=True)"
   ]
  },
  {
   "cell_type": "code",
   "execution_count": 6,
   "id": "abbd9cf4",
   "metadata": {
    "ExecuteTime": {
     "end_time": "2023-10-15T03:38:50.104985Z",
     "start_time": "2023-10-15T03:38:50.078302Z"
    }
   },
   "outputs": [
    {
     "data": {
      "text/html": [
       "<div>\n",
       "<style scoped>\n",
       "    .dataframe tbody tr th:only-of-type {\n",
       "        vertical-align: middle;\n",
       "    }\n",
       "\n",
       "    .dataframe tbody tr th {\n",
       "        vertical-align: top;\n",
       "    }\n",
       "\n",
       "    .dataframe thead th {\n",
       "        text-align: right;\n",
       "    }\n",
       "</style>\n",
       "<table border=\"1\" class=\"dataframe\">\n",
       "  <thead>\n",
       "    <tr style=\"text-align: right;\">\n",
       "      <th></th>\n",
       "      <th>ATTORNEY</th>\n",
       "      <th>CLMSEX</th>\n",
       "      <th>CLMINSUR</th>\n",
       "      <th>SEATBELT</th>\n",
       "      <th>CLMAGE</th>\n",
       "      <th>LOSS</th>\n",
       "    </tr>\n",
       "  </thead>\n",
       "  <tbody>\n",
       "    <tr>\n",
       "      <th>0</th>\n",
       "      <td>1</td>\n",
       "      <td>0.0</td>\n",
       "      <td>1.0</td>\n",
       "      <td>0.0</td>\n",
       "      <td>50.0</td>\n",
       "      <td>34.940</td>\n",
       "    </tr>\n",
       "    <tr>\n",
       "      <th>1</th>\n",
       "      <td>0</td>\n",
       "      <td>1.0</td>\n",
       "      <td>0.0</td>\n",
       "      <td>0.0</td>\n",
       "      <td>18.0</td>\n",
       "      <td>0.891</td>\n",
       "    </tr>\n",
       "    <tr>\n",
       "      <th>2</th>\n",
       "      <td>0</td>\n",
       "      <td>0.0</td>\n",
       "      <td>1.0</td>\n",
       "      <td>0.0</td>\n",
       "      <td>5.0</td>\n",
       "      <td>0.330</td>\n",
       "    </tr>\n",
       "    <tr>\n",
       "      <th>3</th>\n",
       "      <td>1</td>\n",
       "      <td>0.0</td>\n",
       "      <td>1.0</td>\n",
       "      <td>1.0</td>\n",
       "      <td>31.0</td>\n",
       "      <td>0.037</td>\n",
       "    </tr>\n",
       "    <tr>\n",
       "      <th>4</th>\n",
       "      <td>0</td>\n",
       "      <td>0.0</td>\n",
       "      <td>1.0</td>\n",
       "      <td>0.0</td>\n",
       "      <td>30.0</td>\n",
       "      <td>0.038</td>\n",
       "    </tr>\n",
       "    <tr>\n",
       "      <th>...</th>\n",
       "      <td>...</td>\n",
       "      <td>...</td>\n",
       "      <td>...</td>\n",
       "      <td>...</td>\n",
       "      <td>...</td>\n",
       "      <td>...</td>\n",
       "    </tr>\n",
       "    <tr>\n",
       "      <th>1335</th>\n",
       "      <td>0</td>\n",
       "      <td>0.0</td>\n",
       "      <td>1.0</td>\n",
       "      <td>0.0</td>\n",
       "      <td>NaN</td>\n",
       "      <td>0.576</td>\n",
       "    </tr>\n",
       "    <tr>\n",
       "      <th>1336</th>\n",
       "      <td>1</td>\n",
       "      <td>1.0</td>\n",
       "      <td>1.0</td>\n",
       "      <td>0.0</td>\n",
       "      <td>46.0</td>\n",
       "      <td>3.705</td>\n",
       "    </tr>\n",
       "    <tr>\n",
       "      <th>1337</th>\n",
       "      <td>0</td>\n",
       "      <td>1.0</td>\n",
       "      <td>1.0</td>\n",
       "      <td>0.0</td>\n",
       "      <td>39.0</td>\n",
       "      <td>0.099</td>\n",
       "    </tr>\n",
       "    <tr>\n",
       "      <th>1338</th>\n",
       "      <td>1</td>\n",
       "      <td>1.0</td>\n",
       "      <td>0.0</td>\n",
       "      <td>0.0</td>\n",
       "      <td>8.0</td>\n",
       "      <td>3.177</td>\n",
       "    </tr>\n",
       "    <tr>\n",
       "      <th>1339</th>\n",
       "      <td>0</td>\n",
       "      <td>1.0</td>\n",
       "      <td>1.0</td>\n",
       "      <td>0.0</td>\n",
       "      <td>30.0</td>\n",
       "      <td>0.688</td>\n",
       "    </tr>\n",
       "  </tbody>\n",
       "</table>\n",
       "<p>1340 rows × 6 columns</p>\n",
       "</div>"
      ],
      "text/plain": [
       "      ATTORNEY  CLMSEX  CLMINSUR  SEATBELT  CLMAGE    LOSS\n",
       "0            1     0.0       1.0       0.0    50.0  34.940\n",
       "1            0     1.0       0.0       0.0    18.0   0.891\n",
       "2            0     0.0       1.0       0.0     5.0   0.330\n",
       "3            1     0.0       1.0       1.0    31.0   0.037\n",
       "4            0     0.0       1.0       0.0    30.0   0.038\n",
       "...        ...     ...       ...       ...     ...     ...\n",
       "1335         0     0.0       1.0       0.0     NaN   0.576\n",
       "1336         1     1.0       1.0       0.0    46.0   3.705\n",
       "1337         0     1.0       1.0       0.0    39.0   0.099\n",
       "1338         1     1.0       0.0       0.0     8.0   3.177\n",
       "1339         0     1.0       1.0       0.0    30.0   0.688\n",
       "\n",
       "[1340 rows x 6 columns]"
      ]
     },
     "execution_count": 6,
     "metadata": {},
     "output_type": "execute_result"
    }
   ],
   "source": [
    "df"
   ]
  },
  {
   "cell_type": "code",
   "execution_count": 7,
   "id": "1ec7dbb4",
   "metadata": {
    "ExecuteTime": {
     "end_time": "2023-10-15T03:38:50.168883Z",
     "start_time": "2023-10-15T03:38:50.112541Z"
    }
   },
   "outputs": [
    {
     "data": {
      "text/html": [
       "<div>\n",
       "<style scoped>\n",
       "    .dataframe tbody tr th:only-of-type {\n",
       "        vertical-align: middle;\n",
       "    }\n",
       "\n",
       "    .dataframe tbody tr th {\n",
       "        vertical-align: top;\n",
       "    }\n",
       "\n",
       "    .dataframe thead th {\n",
       "        text-align: right;\n",
       "    }\n",
       "</style>\n",
       "<table border=\"1\" class=\"dataframe\">\n",
       "  <thead>\n",
       "    <tr style=\"text-align: right;\">\n",
       "      <th></th>\n",
       "      <th>ATTORNEY</th>\n",
       "      <th>CLMSEX</th>\n",
       "      <th>CLMINSUR</th>\n",
       "      <th>SEATBELT</th>\n",
       "      <th>CLMAGE</th>\n",
       "      <th>LOSS</th>\n",
       "    </tr>\n",
       "  </thead>\n",
       "  <tbody>\n",
       "    <tr>\n",
       "      <th>count</th>\n",
       "      <td>1340.000000</td>\n",
       "      <td>1328.000000</td>\n",
       "      <td>1299.000000</td>\n",
       "      <td>1292.000000</td>\n",
       "      <td>1151.000000</td>\n",
       "      <td>1340.000000</td>\n",
       "    </tr>\n",
       "    <tr>\n",
       "      <th>mean</th>\n",
       "      <td>0.511194</td>\n",
       "      <td>0.558735</td>\n",
       "      <td>0.907621</td>\n",
       "      <td>0.017028</td>\n",
       "      <td>28.414422</td>\n",
       "      <td>3.806307</td>\n",
       "    </tr>\n",
       "    <tr>\n",
       "      <th>std</th>\n",
       "      <td>0.500061</td>\n",
       "      <td>0.496725</td>\n",
       "      <td>0.289671</td>\n",
       "      <td>0.129425</td>\n",
       "      <td>20.304451</td>\n",
       "      <td>10.636903</td>\n",
       "    </tr>\n",
       "    <tr>\n",
       "      <th>min</th>\n",
       "      <td>0.000000</td>\n",
       "      <td>0.000000</td>\n",
       "      <td>0.000000</td>\n",
       "      <td>0.000000</td>\n",
       "      <td>0.000000</td>\n",
       "      <td>0.000000</td>\n",
       "    </tr>\n",
       "    <tr>\n",
       "      <th>25%</th>\n",
       "      <td>0.000000</td>\n",
       "      <td>0.000000</td>\n",
       "      <td>1.000000</td>\n",
       "      <td>0.000000</td>\n",
       "      <td>9.000000</td>\n",
       "      <td>0.400000</td>\n",
       "    </tr>\n",
       "    <tr>\n",
       "      <th>50%</th>\n",
       "      <td>1.000000</td>\n",
       "      <td>1.000000</td>\n",
       "      <td>1.000000</td>\n",
       "      <td>0.000000</td>\n",
       "      <td>30.000000</td>\n",
       "      <td>1.069500</td>\n",
       "    </tr>\n",
       "    <tr>\n",
       "      <th>75%</th>\n",
       "      <td>1.000000</td>\n",
       "      <td>1.000000</td>\n",
       "      <td>1.000000</td>\n",
       "      <td>0.000000</td>\n",
       "      <td>43.000000</td>\n",
       "      <td>3.781500</td>\n",
       "    </tr>\n",
       "    <tr>\n",
       "      <th>max</th>\n",
       "      <td>1.000000</td>\n",
       "      <td>1.000000</td>\n",
       "      <td>1.000000</td>\n",
       "      <td>1.000000</td>\n",
       "      <td>95.000000</td>\n",
       "      <td>173.604000</td>\n",
       "    </tr>\n",
       "  </tbody>\n",
       "</table>\n",
       "</div>"
      ],
      "text/plain": [
       "          ATTORNEY       CLMSEX     CLMINSUR     SEATBELT       CLMAGE  \\\n",
       "count  1340.000000  1328.000000  1299.000000  1292.000000  1151.000000   \n",
       "mean      0.511194     0.558735     0.907621     0.017028    28.414422   \n",
       "std       0.500061     0.496725     0.289671     0.129425    20.304451   \n",
       "min       0.000000     0.000000     0.000000     0.000000     0.000000   \n",
       "25%       0.000000     0.000000     1.000000     0.000000     9.000000   \n",
       "50%       1.000000     1.000000     1.000000     0.000000    30.000000   \n",
       "75%       1.000000     1.000000     1.000000     0.000000    43.000000   \n",
       "max       1.000000     1.000000     1.000000     1.000000    95.000000   \n",
       "\n",
       "              LOSS  \n",
       "count  1340.000000  \n",
       "mean      3.806307  \n",
       "std      10.636903  \n",
       "min       0.000000  \n",
       "25%       0.400000  \n",
       "50%       1.069500  \n",
       "75%       3.781500  \n",
       "max     173.604000  "
      ]
     },
     "execution_count": 7,
     "metadata": {},
     "output_type": "execute_result"
    }
   ],
   "source": [
    "df.describe()"
   ]
  },
  {
   "cell_type": "code",
   "execution_count": null,
   "id": "46863fa6",
   "metadata": {
    "ExecuteTime": {
     "end_time": "2023-10-15T03:38:50.183681Z",
     "start_time": "2023-10-15T03:38:50.175473Z"
    }
   },
   "outputs": [],
   "source": [
    "#Check missing values"
   ]
  },
  {
   "cell_type": "code",
   "execution_count": 8,
   "id": "940cd741",
   "metadata": {
    "ExecuteTime": {
     "end_time": "2023-10-15T03:38:50.215136Z",
     "start_time": "2023-10-15T03:38:50.192778Z"
    }
   },
   "outputs": [
    {
     "data": {
      "text/plain": [
       "ATTORNEY      0\n",
       "CLMSEX       12\n",
       "CLMINSUR     41\n",
       "SEATBELT     48\n",
       "CLMAGE      189\n",
       "LOSS          0\n",
       "dtype: int64"
      ]
     },
     "execution_count": 8,
     "metadata": {},
     "output_type": "execute_result"
    }
   ],
   "source": [
    "df.isna().sum()"
   ]
  },
  {
   "cell_type": "code",
   "execution_count": null,
   "id": "820a2ccf",
   "metadata": {
    "ExecuteTime": {
     "end_time": "2023-10-15T03:38:50.230567Z",
     "start_time": "2023-10-15T03:38:50.223694Z"
    }
   },
   "outputs": [],
   "source": [
    "#Missing value imputation"
   ]
  },
  {
   "cell_type": "code",
   "execution_count": 9,
   "id": "6c040b91",
   "metadata": {},
   "outputs": [
    {
     "data": {
      "text/html": [
       "<div>\n",
       "<style scoped>\n",
       "    .dataframe tbody tr th:only-of-type {\n",
       "        vertical-align: middle;\n",
       "    }\n",
       "\n",
       "    .dataframe tbody tr th {\n",
       "        vertical-align: top;\n",
       "    }\n",
       "\n",
       "    .dataframe thead th {\n",
       "        text-align: right;\n",
       "    }\n",
       "</style>\n",
       "<table border=\"1\" class=\"dataframe\">\n",
       "  <thead>\n",
       "    <tr style=\"text-align: right;\">\n",
       "      <th></th>\n",
       "      <th>ATTORNEY</th>\n",
       "      <th>CLMSEX</th>\n",
       "      <th>CLMINSUR</th>\n",
       "      <th>SEATBELT</th>\n",
       "      <th>CLMAGE</th>\n",
       "      <th>LOSS</th>\n",
       "    </tr>\n",
       "  </thead>\n",
       "  <tbody>\n",
       "    <tr>\n",
       "      <th>0</th>\n",
       "      <td>1</td>\n",
       "      <td>0.0</td>\n",
       "      <td>1.0</td>\n",
       "      <td>0.0</td>\n",
       "      <td>50.0</td>\n",
       "      <td>34.940</td>\n",
       "    </tr>\n",
       "    <tr>\n",
       "      <th>1</th>\n",
       "      <td>0</td>\n",
       "      <td>1.0</td>\n",
       "      <td>0.0</td>\n",
       "      <td>0.0</td>\n",
       "      <td>18.0</td>\n",
       "      <td>0.891</td>\n",
       "    </tr>\n",
       "    <tr>\n",
       "      <th>2</th>\n",
       "      <td>0</td>\n",
       "      <td>0.0</td>\n",
       "      <td>1.0</td>\n",
       "      <td>0.0</td>\n",
       "      <td>5.0</td>\n",
       "      <td>0.330</td>\n",
       "    </tr>\n",
       "    <tr>\n",
       "      <th>3</th>\n",
       "      <td>1</td>\n",
       "      <td>0.0</td>\n",
       "      <td>1.0</td>\n",
       "      <td>1.0</td>\n",
       "      <td>31.0</td>\n",
       "      <td>0.037</td>\n",
       "    </tr>\n",
       "    <tr>\n",
       "      <th>4</th>\n",
       "      <td>0</td>\n",
       "      <td>0.0</td>\n",
       "      <td>1.0</td>\n",
       "      <td>0.0</td>\n",
       "      <td>30.0</td>\n",
       "      <td>0.038</td>\n",
       "    </tr>\n",
       "  </tbody>\n",
       "</table>\n",
       "</div>"
      ],
      "text/plain": [
       "   ATTORNEY  CLMSEX  CLMINSUR  SEATBELT  CLMAGE    LOSS\n",
       "0         1     0.0       1.0       0.0    50.0  34.940\n",
       "1         0     1.0       0.0       0.0    18.0   0.891\n",
       "2         0     0.0       1.0       0.0     5.0   0.330\n",
       "3         1     0.0       1.0       1.0    31.0   0.037\n",
       "4         0     0.0       1.0       0.0    30.0   0.038"
      ]
     },
     "execution_count": 9,
     "metadata": {},
     "output_type": "execute_result"
    }
   ],
   "source": [
    "df.head()"
   ]
  },
  {
   "cell_type": "code",
   "execution_count": 10,
   "id": "08494f14",
   "metadata": {
    "ExecuteTime": {
     "end_time": "2023-10-15T03:38:51.248824Z",
     "start_time": "2023-10-15T03:38:50.235963Z"
    }
   },
   "outputs": [],
   "source": [
    "from sklearn.impute import SimpleImputer"
   ]
  },
  {
   "cell_type": "code",
   "execution_count": 12,
   "id": "51835f64",
   "metadata": {
    "ExecuteTime": {
     "end_time": "2023-10-15T03:38:51.278905Z",
     "start_time": "2023-10-15T03:38:51.255117Z"
    }
   },
   "outputs": [],
   "source": [
    "si = SimpleImputer(strategy='most_frequent')"
   ]
  },
  {
   "cell_type": "code",
   "execution_count": 13,
   "id": "6b4ca939",
   "metadata": {
    "ExecuteTime": {
     "end_time": "2023-10-15T03:38:51.340683Z",
     "start_time": "2023-10-15T03:38:51.289014Z"
    }
   },
   "outputs": [
    {
     "data": {
      "text/html": [
       "<div>\n",
       "<style scoped>\n",
       "    .dataframe tbody tr th:only-of-type {\n",
       "        vertical-align: middle;\n",
       "    }\n",
       "\n",
       "    .dataframe tbody tr th {\n",
       "        vertical-align: top;\n",
       "    }\n",
       "\n",
       "    .dataframe thead th {\n",
       "        text-align: right;\n",
       "    }\n",
       "</style>\n",
       "<table border=\"1\" class=\"dataframe\">\n",
       "  <thead>\n",
       "    <tr style=\"text-align: right;\">\n",
       "      <th></th>\n",
       "      <th>ATTORNEY</th>\n",
       "      <th>CLMSEX</th>\n",
       "      <th>CLMINSUR</th>\n",
       "      <th>SEATBELT</th>\n",
       "      <th>CLMAGE</th>\n",
       "      <th>LOSS</th>\n",
       "    </tr>\n",
       "  </thead>\n",
       "  <tbody>\n",
       "    <tr>\n",
       "      <th>0</th>\n",
       "      <td>1</td>\n",
       "      <td>0.0</td>\n",
       "      <td>1.0</td>\n",
       "      <td>0.0</td>\n",
       "      <td>50.0</td>\n",
       "      <td>34.940</td>\n",
       "    </tr>\n",
       "    <tr>\n",
       "      <th>1</th>\n",
       "      <td>0</td>\n",
       "      <td>1.0</td>\n",
       "      <td>0.0</td>\n",
       "      <td>0.0</td>\n",
       "      <td>18.0</td>\n",
       "      <td>0.891</td>\n",
       "    </tr>\n",
       "    <tr>\n",
       "      <th>2</th>\n",
       "      <td>0</td>\n",
       "      <td>0.0</td>\n",
       "      <td>1.0</td>\n",
       "      <td>0.0</td>\n",
       "      <td>5.0</td>\n",
       "      <td>0.330</td>\n",
       "    </tr>\n",
       "    <tr>\n",
       "      <th>3</th>\n",
       "      <td>1</td>\n",
       "      <td>0.0</td>\n",
       "      <td>1.0</td>\n",
       "      <td>1.0</td>\n",
       "      <td>31.0</td>\n",
       "      <td>0.037</td>\n",
       "    </tr>\n",
       "    <tr>\n",
       "      <th>4</th>\n",
       "      <td>0</td>\n",
       "      <td>0.0</td>\n",
       "      <td>1.0</td>\n",
       "      <td>0.0</td>\n",
       "      <td>30.0</td>\n",
       "      <td>0.038</td>\n",
       "    </tr>\n",
       "  </tbody>\n",
       "</table>\n",
       "</div>"
      ],
      "text/plain": [
       "   ATTORNEY  CLMSEX  CLMINSUR  SEATBELT  CLMAGE    LOSS\n",
       "0         1     0.0       1.0       0.0    50.0  34.940\n",
       "1         0     1.0       0.0       0.0    18.0   0.891\n",
       "2         0     0.0       1.0       0.0     5.0   0.330\n",
       "3         1     0.0       1.0       1.0    31.0   0.037\n",
       "4         0     0.0       1.0       0.0    30.0   0.038"
      ]
     },
     "execution_count": 13,
     "metadata": {},
     "output_type": "execute_result"
    }
   ],
   "source": [
    "df.head()"
   ]
  },
  {
   "cell_type": "code",
   "execution_count": 14,
   "id": "824eb1d6",
   "metadata": {
    "ExecuteTime": {
     "end_time": "2023-10-15T03:38:51.372015Z",
     "start_time": "2023-10-15T03:38:51.343700Z"
    }
   },
   "outputs": [
    {
     "data": {
      "text/html": [
       "<div>\n",
       "<style scoped>\n",
       "    .dataframe tbody tr th:only-of-type {\n",
       "        vertical-align: middle;\n",
       "    }\n",
       "\n",
       "    .dataframe tbody tr th {\n",
       "        vertical-align: top;\n",
       "    }\n",
       "\n",
       "    .dataframe thead th {\n",
       "        text-align: right;\n",
       "    }\n",
       "</style>\n",
       "<table border=\"1\" class=\"dataframe\">\n",
       "  <thead>\n",
       "    <tr style=\"text-align: right;\">\n",
       "      <th></th>\n",
       "      <th>CLMSEX</th>\n",
       "      <th>CLMINSUR</th>\n",
       "      <th>SEATBELT</th>\n",
       "    </tr>\n",
       "  </thead>\n",
       "  <tbody>\n",
       "    <tr>\n",
       "      <th>0</th>\n",
       "      <td>0.0</td>\n",
       "      <td>1.0</td>\n",
       "      <td>0.0</td>\n",
       "    </tr>\n",
       "    <tr>\n",
       "      <th>1</th>\n",
       "      <td>1.0</td>\n",
       "      <td>0.0</td>\n",
       "      <td>0.0</td>\n",
       "    </tr>\n",
       "    <tr>\n",
       "      <th>2</th>\n",
       "      <td>0.0</td>\n",
       "      <td>1.0</td>\n",
       "      <td>0.0</td>\n",
       "    </tr>\n",
       "    <tr>\n",
       "      <th>3</th>\n",
       "      <td>0.0</td>\n",
       "      <td>1.0</td>\n",
       "      <td>1.0</td>\n",
       "    </tr>\n",
       "    <tr>\n",
       "      <th>4</th>\n",
       "      <td>0.0</td>\n",
       "      <td>1.0</td>\n",
       "      <td>0.0</td>\n",
       "    </tr>\n",
       "    <tr>\n",
       "      <th>...</th>\n",
       "      <td>...</td>\n",
       "      <td>...</td>\n",
       "      <td>...</td>\n",
       "    </tr>\n",
       "    <tr>\n",
       "      <th>1335</th>\n",
       "      <td>0.0</td>\n",
       "      <td>1.0</td>\n",
       "      <td>0.0</td>\n",
       "    </tr>\n",
       "    <tr>\n",
       "      <th>1336</th>\n",
       "      <td>1.0</td>\n",
       "      <td>1.0</td>\n",
       "      <td>0.0</td>\n",
       "    </tr>\n",
       "    <tr>\n",
       "      <th>1337</th>\n",
       "      <td>1.0</td>\n",
       "      <td>1.0</td>\n",
       "      <td>0.0</td>\n",
       "    </tr>\n",
       "    <tr>\n",
       "      <th>1338</th>\n",
       "      <td>1.0</td>\n",
       "      <td>0.0</td>\n",
       "      <td>0.0</td>\n",
       "    </tr>\n",
       "    <tr>\n",
       "      <th>1339</th>\n",
       "      <td>1.0</td>\n",
       "      <td>1.0</td>\n",
       "      <td>0.0</td>\n",
       "    </tr>\n",
       "  </tbody>\n",
       "</table>\n",
       "<p>1340 rows × 3 columns</p>\n",
       "</div>"
      ],
      "text/plain": [
       "      CLMSEX  CLMINSUR  SEATBELT\n",
       "0        0.0       1.0       0.0\n",
       "1        1.0       0.0       0.0\n",
       "2        0.0       1.0       0.0\n",
       "3        0.0       1.0       1.0\n",
       "4        0.0       1.0       0.0\n",
       "...      ...       ...       ...\n",
       "1335     0.0       1.0       0.0\n",
       "1336     1.0       1.0       0.0\n",
       "1337     1.0       1.0       0.0\n",
       "1338     1.0       0.0       0.0\n",
       "1339     1.0       1.0       0.0\n",
       "\n",
       "[1340 rows x 3 columns]"
      ]
     },
     "execution_count": 14,
     "metadata": {},
     "output_type": "execute_result"
    }
   ],
   "source": [
    "df.iloc[:,1:4]"
   ]
  },
  {
   "cell_type": "code",
   "execution_count": 15,
   "id": "6e37d3d5",
   "metadata": {},
   "outputs": [
    {
     "data": {
      "text/plain": [
       "array([[0., 1., 0.],\n",
       "       [1., 0., 0.],\n",
       "       [0., 1., 0.],\n",
       "       ...,\n",
       "       [1., 1., 0.],\n",
       "       [1., 0., 0.],\n",
       "       [1., 1., 0.]])"
      ]
     },
     "execution_count": 15,
     "metadata": {},
     "output_type": "execute_result"
    }
   ],
   "source": [
    "si.fit_transform(df.iloc[:,1:4])"
   ]
  },
  {
   "cell_type": "code",
   "execution_count": 16,
   "id": "674fc1a7",
   "metadata": {
    "ExecuteTime": {
     "end_time": "2023-10-15T03:38:51.403414Z",
     "start_time": "2023-10-15T03:38:51.377010Z"
    }
   },
   "outputs": [],
   "source": [
    "df.iloc[:,1:4] = si.fit_transform(df.iloc[:,1:4])"
   ]
  },
  {
   "cell_type": "code",
   "execution_count": 17,
   "id": "b2069149",
   "metadata": {
    "ExecuteTime": {
     "end_time": "2023-10-15T03:38:51.435053Z",
     "start_time": "2023-10-15T03:38:51.412911Z"
    }
   },
   "outputs": [
    {
     "data": {
      "text/plain": [
       "ATTORNEY      0\n",
       "CLMSEX        0\n",
       "CLMINSUR      0\n",
       "SEATBELT      0\n",
       "CLMAGE      189\n",
       "LOSS          0\n",
       "dtype: int64"
      ]
     },
     "execution_count": 17,
     "metadata": {},
     "output_type": "execute_result"
    }
   ],
   "source": [
    "df.isna().sum()"
   ]
  },
  {
   "cell_type": "code",
   "execution_count": 18,
   "id": "59b02d7d",
   "metadata": {
    "ExecuteTime": {
     "end_time": "2023-10-15T03:38:51.450571Z",
     "start_time": "2023-10-15T03:38:51.440294Z"
    }
   },
   "outputs": [],
   "source": [
    "df['CLMAGE'].fillna(df['CLMAGE'].median(), inplace=True)"
   ]
  },
  {
   "cell_type": "code",
   "execution_count": 19,
   "id": "53251b20",
   "metadata": {
    "ExecuteTime": {
     "end_time": "2023-10-15T03:38:51.480907Z",
     "start_time": "2023-10-15T03:38:51.459194Z"
    }
   },
   "outputs": [
    {
     "data": {
      "text/plain": [
       "ATTORNEY    0\n",
       "CLMSEX      0\n",
       "CLMINSUR    0\n",
       "SEATBELT    0\n",
       "CLMAGE      0\n",
       "LOSS        0\n",
       "dtype: int64"
      ]
     },
     "execution_count": 19,
     "metadata": {},
     "output_type": "execute_result"
    }
   ],
   "source": [
    "df.isna().sum()"
   ]
  },
  {
   "cell_type": "code",
   "execution_count": null,
   "id": "c66bf706",
   "metadata": {
    "ExecuteTime": {
     "end_time": "2023-10-15T03:38:51.496514Z",
     "start_time": "2023-10-15T03:38:51.485983Z"
    }
   },
   "outputs": [],
   "source": [
    "#Define x and y"
   ]
  },
  {
   "cell_type": "code",
   "execution_count": null,
   "id": "f9aeab0b",
   "metadata": {
    "ExecuteTime": {
     "end_time": "2023-10-15T03:38:51.543868Z",
     "start_time": "2023-10-15T03:38:51.499278Z"
    }
   },
   "outputs": [],
   "source": [
    "df"
   ]
  },
  {
   "cell_type": "code",
   "execution_count": null,
   "id": "853587b3",
   "metadata": {
    "ExecuteTime": {
     "end_time": "2023-10-15T03:38:51.575034Z",
     "start_time": "2023-10-15T03:38:51.547898Z"
    }
   },
   "outputs": [],
   "source": [
    "x = df.iloc[:,1:]\n",
    "y = df['ATTORNEY']\n",
    "y"
   ]
  },
  {
   "cell_type": "code",
   "execution_count": null,
   "id": "4cd18566",
   "metadata": {
    "ExecuteTime": {
     "end_time": "2023-10-15T03:38:51.621402Z",
     "start_time": "2023-10-15T03:38:51.577576Z"
    }
   },
   "outputs": [],
   "source": [
    "x"
   ]
  },
  {
   "cell_type": "markdown",
   "id": "6af0394c",
   "metadata": {},
   "source": [
    "# Model Building"
   ]
  },
  {
   "cell_type": "code",
   "execution_count": null,
   "id": "2182c532",
   "metadata": {
    "ExecuteTime": {
     "end_time": "2023-10-15T03:38:51.636724Z",
     "start_time": "2023-10-15T03:38:51.624454Z"
    }
   },
   "outputs": [],
   "source": [
    "#Split the data."
   ]
  },
  {
   "cell_type": "code",
   "execution_count": null,
   "id": "031bb9df",
   "metadata": {
    "ExecuteTime": {
     "end_time": "2023-10-15T03:38:51.668790Z",
     "start_time": "2023-10-15T03:38:51.640514Z"
    }
   },
   "outputs": [],
   "source": [
    "df.head(10)"
   ]
  },
  {
   "cell_type": "code",
   "execution_count": null,
   "id": "e77bc6f9",
   "metadata": {
    "ExecuteTime": {
     "end_time": "2023-10-15T03:38:51.685403Z",
     "start_time": "2023-10-15T03:38:51.673766Z"
    }
   },
   "outputs": [],
   "source": [
    "from sklearn.model_selection import train_test_split"
   ]
  },
  {
   "cell_type": "code",
   "execution_count": null,
   "id": "21552e73",
   "metadata": {
    "ExecuteTime": {
     "end_time": "2023-10-15T03:38:51.714836Z",
     "start_time": "2023-10-15T03:38:51.689967Z"
    }
   },
   "outputs": [],
   "source": [
    "xtrain,xtest,ytrain,ytest = train_test_split(x,y,test_size=0.2, random_state=42)"
   ]
  },
  {
   "cell_type": "code",
   "execution_count": null,
   "id": "61d9e7b4",
   "metadata": {
    "ExecuteTime": {
     "end_time": "2023-10-15T03:38:51.746692Z",
     "start_time": "2023-10-15T03:38:51.719925Z"
    }
   },
   "outputs": [],
   "source": [
    "xtrain"
   ]
  },
  {
   "cell_type": "code",
   "execution_count": null,
   "id": "bcb5ad21",
   "metadata": {
    "ExecuteTime": {
     "end_time": "2023-10-15T03:38:51.762371Z",
     "start_time": "2023-10-15T03:38:51.750335Z"
    }
   },
   "outputs": [],
   "source": [
    "ytrain"
   ]
  },
  {
   "cell_type": "code",
   "execution_count": null,
   "id": "7afbdd85",
   "metadata": {
    "ExecuteTime": {
     "end_time": "2023-10-15T03:38:51.808370Z",
     "start_time": "2023-10-15T03:38:51.765559Z"
    }
   },
   "outputs": [],
   "source": [
    "xtest"
   ]
  },
  {
   "cell_type": "code",
   "execution_count": null,
   "id": "13270736",
   "metadata": {
    "ExecuteTime": {
     "end_time": "2023-10-15T03:38:51.824399Z",
     "start_time": "2023-10-15T03:38:51.813051Z"
    }
   },
   "outputs": [],
   "source": [
    "ytest"
   ]
  },
  {
   "cell_type": "code",
   "execution_count": null,
   "id": "1b3d2171",
   "metadata": {
    "ExecuteTime": {
     "end_time": "2023-10-15T03:38:51.839527Z",
     "start_time": "2023-10-15T03:38:51.828937Z"
    }
   },
   "outputs": [],
   "source": [
    "from sklearn.linear_model import LogisticRegression"
   ]
  },
  {
   "cell_type": "code",
   "execution_count": null,
   "id": "d0f13dd1",
   "metadata": {
    "ExecuteTime": {
     "end_time": "2023-10-15T03:38:52.057677Z",
     "start_time": "2023-10-15T03:38:51.845177Z"
    }
   },
   "outputs": [],
   "source": [
    "lg = LogisticRegression()\n",
    "lg.fit(xtrain,ytrain)\n",
    "lg.coef_"
   ]
  },
  {
   "cell_type": "code",
   "execution_count": null,
   "id": "45d195a8",
   "metadata": {
    "ExecuteTime": {
     "end_time": "2023-10-15T03:38:52.089282Z",
     "start_time": "2023-10-15T03:38:52.062792Z"
    }
   },
   "outputs": [],
   "source": [
    "xtest"
   ]
  },
  {
   "cell_type": "code",
   "execution_count": null,
   "id": "249064c5",
   "metadata": {
    "ExecuteTime": {
     "end_time": "2023-10-15T03:38:52.119358Z",
     "start_time": "2023-10-15T03:38:52.093282Z"
    }
   },
   "outputs": [],
   "source": [
    "ytest"
   ]
  },
  {
   "cell_type": "code",
   "execution_count": null,
   "id": "34968890",
   "metadata": {
    "ExecuteTime": {
     "end_time": "2023-10-15T03:38:52.138912Z",
     "start_time": "2023-10-15T03:38:52.123568Z"
    }
   },
   "outputs": [],
   "source": [
    "ypred = lg.predict(xtest)\n",
    "ypred"
   ]
  },
  {
   "cell_type": "code",
   "execution_count": null,
   "id": "627605ad",
   "metadata": {
    "ExecuteTime": {
     "end_time": "2023-10-15T03:38:52.165919Z",
     "start_time": "2023-10-15T03:38:52.144796Z"
    }
   },
   "outputs": [],
   "source": [
    "print(ytest[:25].values) #Actual\n",
    "print(ypred[:25]) #Predicted"
   ]
  },
  {
   "cell_type": "code",
   "execution_count": null,
   "id": "47249ca9",
   "metadata": {
    "ExecuteTime": {
     "end_time": "2023-10-15T03:38:52.181044Z",
     "start_time": "2023-10-15T03:38:52.171429Z"
    }
   },
   "outputs": [],
   "source": [
    "from sklearn.metrics import confusion_matrix, classification_report"
   ]
  },
  {
   "cell_type": "code",
   "execution_count": null,
   "id": "f75d755a",
   "metadata": {
    "ExecuteTime": {
     "end_time": "2023-10-15T03:38:52.212093Z",
     "start_time": "2023-10-15T03:38:52.189155Z"
    }
   },
   "outputs": [],
   "source": [
    "confusion_matrix(ytest,ypred) #Sequence -> tn, fp, fn, tp"
   ]
  },
  {
   "cell_type": "code",
   "execution_count": null,
   "id": "87e35dd7",
   "metadata": {
    "ExecuteTime": {
     "end_time": "2023-10-15T03:38:53.071466Z",
     "start_time": "2023-10-15T03:38:52.215275Z"
    }
   },
   "outputs": [],
   "source": [
    "sns.heatmap(confusion_matrix(ytest,ypred),annot=True, fmt='g')"
   ]
  },
  {
   "cell_type": "code",
   "execution_count": null,
   "id": "49607b75",
   "metadata": {
    "ExecuteTime": {
     "end_time": "2023-10-15T03:38:53.102348Z",
     "start_time": "2023-10-15T03:38:53.078252Z"
    }
   },
   "outputs": [],
   "source": [
    "print(classification_report(ytest,ypred))"
   ]
  },
  {
   "cell_type": "code",
   "execution_count": null,
   "id": "110a046d",
   "metadata": {},
   "outputs": [],
   "source": []
  },
  {
   "cell_type": "code",
   "execution_count": null,
   "id": "c1e898be",
   "metadata": {},
   "outputs": [],
   "source": []
  }
 ],
 "metadata": {
  "kernelspec": {
   "display_name": "Python 3 (ipykernel)",
   "language": "python",
   "name": "python3"
  },
  "language_info": {
   "codemirror_mode": {
    "name": "ipython",
    "version": 3
   },
   "file_extension": ".py",
   "mimetype": "text/x-python",
   "name": "python",
   "nbconvert_exporter": "python",
   "pygments_lexer": "ipython3",
   "version": "3.11.5"
  }
 },
 "nbformat": 4,
 "nbformat_minor": 5
}
